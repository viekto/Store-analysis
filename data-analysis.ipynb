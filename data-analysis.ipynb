{
 "cells": [
  {
   "cell_type": "markdown",
   "metadata": {},
   "source": [
    "# Шаг 1. Получение, осмотр и объединение данных"
   ]
  },
  {
   "cell_type": "markdown",
   "metadata": {},
   "source": [
    "Основной датасет.\n",
    "entry_date — дата записи;\n",
    "order_id — идентификационный номер заказа;\n",
    "customer_id — идентификационный номер клиента;\n",
    "quantity — количество;\n",
    "price — цена;\n",
    "name_clust — автоматически присвоенная группа записи на основе названия;\n",
    "entry_id — идентификационный номер записи;\n",
    "country_id — идентификационный номер страны.\n",
    "\n",
    "\n",
    "Текстовое описание записей.\n",
    "entry_id — идентификационный номер записи;\n",
    "entry — запись."
   ]
  },
  {
   "cell_type": "code",
   "execution_count": null,
   "metadata": {},
   "outputs": [],
   "source": [
    "import pandas as pd\n",
    "import matplotlib.pyplot as plt\n",
    "import seaborn as sns\n",
    "import plotly.express as px\n",
    "import numpy as np\n",
    "from scipy.stats import shapiro, levene\n",
    "from scipy.stats import kruskal\n",
    "from statsmodels.stats.proportion import proportions_ztest\n",
    "from scipy.stats import mannwhitneyu\n",
    "from io import BytesIO\n",
    "import requests\n",
    "from itertools import combinations\n",
    "from collections import defaultdict"
   ]
  },
  {
   "cell_type": "code",
   "execution_count": null,
   "metadata": {},
   "outputs": [],
   "source": [
    "df = pd.read_csv('/datasets/gift.csv')"
   ]
  },
  {
   "cell_type": "code",
   "execution_count": null,
   "metadata": {},
   "outputs": [],
   "source": [
    "df.info()"
   ]
  },
  {
   "cell_type": "markdown",
   "metadata": {},
   "source": [
    "таблица содержит 356940 строк и не имеет пропусков, все столбцы имеют корректный тип данных, кроме колонки с датой, это необходимо исправить"
   ]
  },
  {
   "cell_type": "code",
   "execution_count": null,
   "metadata": {},
   "outputs": [],
   "source": [
    "df['entry_date'] = pd.to_datetime(df['entry_date'], format=\"%d/%m/%Y %H:%M\")"
   ]
  },
  {
   "cell_type": "code",
   "execution_count": null,
   "metadata": {},
   "outputs": [],
   "source": [
    "df.head()"
   ]
  },
  {
   "cell_type": "code",
   "execution_count": null,
   "metadata": {},
   "outputs": [],
   "source": [
    "df.info()"
   ]
  },
  {
   "cell_type": "markdown",
   "metadata": {},
   "source": [
    "загрузим вторую таблицу и рассмотрим информацию о ней "
   ]
  },
  {
   "cell_type": "code",
   "execution_count": null,
   "metadata": {},
   "outputs": [],
   "source": [
    "spreadsheet_id = '1KzgGARYw8uxBpH-q_rWaR8wg5tMgdVCRH_LNY1idjG0'\n",
    "file_name = 'https://docs.google.com/spreadsheets/d/{}/export?format=csv'.format(spreadsheet_id)\n",
    "r = requests.get(file_name)\n",
    "df_gift = pd.read_csv(BytesIO(r.content))\n",
    "df_gift"
   ]
  },
  {
   "cell_type": "code",
   "execution_count": null,
   "metadata": {},
   "outputs": [],
   "source": [
    "df_gift.info()"
   ]
  },
  {
   "cell_type": "markdown",
   "metadata": {},
   "source": [
    "для удобства использования таблицы установим столбец с id в качестве индекса"
   ]
  },
  {
   "cell_type": "code",
   "execution_count": null,
   "metadata": {},
   "outputs": [],
   "source": [
    "df_gift = df_gift.set_index('entry_id')"
   ]
  },
  {
   "cell_type": "markdown",
   "metadata": {},
   "source": [
    "таблица содержит 1 пропуск и так как столбец содержащий его хранит информацию с описанием заказа, заменим его на прочерк"
   ]
  },
  {
   "cell_type": "code",
   "execution_count": null,
   "metadata": {},
   "outputs": [],
   "source": [
    "df_gift['entry'].fillna('-', inplace=True)"
   ]
  },
  {
   "cell_type": "code",
   "execution_count": null,
   "metadata": {},
   "outputs": [],
   "source": [
    "df_gift.head()"
   ]
  },
  {
   "cell_type": "markdown",
   "metadata": {},
   "source": [
    "проверим наличие дубликатов в таблицах"
   ]
  },
  {
   "cell_type": "code",
   "execution_count": null,
   "metadata": {},
   "outputs": [],
   "source": [
    "df.duplicated().sum()"
   ]
  },
  {
   "cell_type": "markdown",
   "metadata": {},
   "source": [
    "основная таблица содержит 3573 дубликата, рассмотрим соответствует ли количесво уникальных id заказов их общему числу"
   ]
  },
  {
   "cell_type": "code",
   "execution_count": null,
   "metadata": {},
   "outputs": [],
   "source": [
    "df['order_id'].nunique() == df['order_id'].count()"
   ]
  },
  {
   "cell_type": "code",
   "execution_count": null,
   "metadata": {},
   "outputs": [],
   "source": [
    "#число уникальных идентификаторов\n",
    "df['order_id'].nunique()"
   ]
  },
  {
   "cell_type": "code",
   "execution_count": null,
   "metadata": {},
   "outputs": [],
   "source": [
    "value_order = df['order_id'].value_counts()\n",
    "value_order"
   ]
  },
  {
   "cell_type": "markdown",
   "metadata": {},
   "source": [
    "в таблице есть множество заказов с одинаковым номером "
   ]
  },
  {
   "cell_type": "code",
   "execution_count": null,
   "metadata": {},
   "outputs": [],
   "source": [
    "#найдем эти заказы \n",
    "not_unique_id = value_order[value_order > 1].index\n",
    "\n",
    "# Фильтруем DataFrame по этим id\n",
    "duplicates = df[df['order_id'].isin(not_unique_id)]\n",
    "duplicates"
   ]
  },
  {
   "cell_type": "markdown",
   "metadata": {},
   "source": [
    "у всех этих заказов совпадает время оформления, но отличается состав "
   ]
  },
  {
   "cell_type": "code",
   "execution_count": null,
   "metadata": {},
   "outputs": [],
   "source": [
    "#рассмотрим заказы с одинаковым id и временем\n",
    "same_date_id = duplicates[duplicates.duplicated(['order_id', 'entry_date'], keep=False)]\n",
    "grouped = same_date_id.groupby(['order_id', 'entry_date'])\n",
    "\n",
    "# Проверка различий в составе заказов\n",
    "for (order_id, time), group in grouped:\n",
    "    if len(group.drop_duplicates()) > 1:\n",
    "        print(f\"Разные составы для order_id {order_id}, время {time}:\")\n",
    "        print(group)"
   ]
  },
  {
   "cell_type": "markdown",
   "metadata": {},
   "source": [
    "таких заказов огромное количество и неясно чем вызваны эти дубликаты, либо это особенность бизнес процесса, который разбивает большие заказы на части, либо ошибка при сборе данных"
   ]
  },
  {
   "cell_type": "markdown",
   "metadata": {},
   "source": [
    "на данный момент оставим эти записи и удалим только полные дубликаты"
   ]
  },
  {
   "cell_type": "code",
   "execution_count": null,
   "metadata": {},
   "outputs": [],
   "source": [
    "df = df.drop_duplicates()\n",
    "df.duplicated().sum()"
   ]
  },
  {
   "cell_type": "code",
   "execution_count": null,
   "metadata": {},
   "outputs": [],
   "source": [
    "#посчитаем дубликаты во второй таблице\n",
    "df_gift.duplicated().sum()"
   ]
  },
  {
   "cell_type": "markdown",
   "metadata": {},
   "source": [
    "во второй таблице дубликаты отсутствуют"
   ]
  },
  {
   "cell_type": "code",
   "execution_count": null,
   "metadata": {},
   "outputs": [],
   "source": [
    "#объеденим информацию в одну таблицу, для этого воспользуемся левим присоединением тк нам нужны все строки из первой таблицы и соответствующие им во второй\n",
    "df_gift_info = df.merge(df_gift, on='entry_id', how='left')"
   ]
  },
  {
   "cell_type": "code",
   "execution_count": null,
   "metadata": {},
   "outputs": [],
   "source": [
    "df_gift_info.info()"
   ]
  },
  {
   "cell_type": "markdown",
   "metadata": {},
   "source": [
    "# Шаг 2. Предобработка и начало исследовательского анализа"
   ]
  },
  {
   "cell_type": "markdown",
   "metadata": {},
   "source": [
    "## рассмотрим выбросы в столбцах quantity и price"
   ]
  },
  {
   "cell_type": "code",
   "execution_count": null,
   "metadata": {},
   "outputs": [],
   "source": [
    "df_gift_info['price'].describe()"
   ]
  },
  {
   "cell_type": "code",
   "execution_count": null,
   "metadata": {},
   "outputs": [],
   "source": [
    "#изменим формат вывода чисел\n",
    "stats = df_gift_info['price'].describe().apply(lambda x: f\"{x:.2f}\")\n",
    "stats"
   ]
  },
  {
   "cell_type": "code",
   "execution_count": null,
   "metadata": {},
   "outputs": [],
   "source": [
    "sns.boxplot(df_gift_info['price'])"
   ]
  },
  {
   "cell_type": "markdown",
   "metadata": {},
   "source": [
    "в столбце содержаться минусовые значения чего быть не может, а также подозрительно огромные значения "
   ]
  },
  {
   "cell_type": "code",
   "execution_count": null,
   "metadata": {},
   "outputs": [],
   "source": [
    "#рассмотрим виды товаров магазина\n",
    "df_gift_info['entry'].unique()"
   ]
  },
  {
   "cell_type": "markdown",
   "metadata": {},
   "source": [
    "как известно из информации о клиенте, что это магазин подарочных товаров  и вероятность того что какой-либо товар может стоить больше миллиона крайне мала, поэтому оставим верхнюю границу цены на товар 3000 "
   ]
  },
  {
   "cell_type": "code",
   "execution_count": null,
   "metadata": {},
   "outputs": [],
   "source": [
    "filtered_df = df_gift_info[(df_gift_info['price'] > 0) & (df_gift_info['price'] < 3000)]\n",
    "\n",
    "filtered_df['price'].describe().apply(lambda x: f\"{x:.2f}\")"
   ]
  },
  {
   "cell_type": "code",
   "execution_count": null,
   "metadata": {},
   "outputs": [],
   "source": [
    "sns.boxplot(filtered_df['price'])"
   ]
  },
  {
   "cell_type": "markdown",
   "metadata": {},
   "source": [
    "рассмотрим столбец quantity"
   ]
  },
  {
   "cell_type": "code",
   "execution_count": null,
   "metadata": {},
   "outputs": [],
   "source": [
    "df_gift_info['quantity'].describe()"
   ]
  },
  {
   "cell_type": "code",
   "execution_count": null,
   "metadata": {},
   "outputs": [],
   "source": [
    "sns.boxplot(df_gift_info['quantity'])"
   ]
  },
  {
   "cell_type": "markdown",
   "metadata": {},
   "source": [
    "в столбце также присутствуют отрицательные значения и крайне огромные "
   ]
  },
  {
   "cell_type": "markdown",
   "metadata": {},
   "source": [
    "сказано что магазин работает с оптовыми покупателями, поэтому оставим верхнуюю границу в размере 30 товаров"
   ]
  },
  {
   "cell_type": "code",
   "execution_count": null,
   "metadata": {},
   "outputs": [],
   "source": [
    "filtered_df = df_gift_info[(df_gift_info['quantity'] > 0) & (df_gift_info['quantity'] < 30)]\n",
    "\n",
    "filtered_df['quantity'].describe()"
   ]
  },
  {
   "cell_type": "code",
   "execution_count": null,
   "metadata": {},
   "outputs": [],
   "source": [
    "sns.boxplot(filtered_df['quantity'])"
   ]
  },
  {
   "cell_type": "markdown",
   "metadata": {},
   "source": [
    "## рассчитаем сумму стоимости каждой товарной позиции"
   ]
  },
  {
   "cell_type": "code",
   "execution_count": null,
   "metadata": {},
   "outputs": [],
   "source": [
    "#объеденим условия для составления общего датасета\n",
    "filtered_df = df_gift_info[(df_gift_info['price'] > 0) & (df_gift_info['price'] < 3000) & (df_gift_info['quantity'] > 0) & (df_gift_info['quantity'] < 30)]"
   ]
  },
  {
   "cell_type": "code",
   "execution_count": null,
   "metadata": {},
   "outputs": [],
   "source": [
    "filtered_df = filtered_df.copy()\n",
    "filtered_df['total_cost'] = filtered_df['price'] * filtered_df['quantity']"
   ]
  },
  {
   "cell_type": "code",
   "execution_count": null,
   "metadata": {},
   "outputs": [],
   "source": [
    "filtered_df['total_cost'].describe().apply(lambda x: f\"{x:.2f}\")"
   ]
  },
  {
   "cell_type": "code",
   "execution_count": null,
   "metadata": {},
   "outputs": [],
   "source": [
    "filtered_df[filtered_df['total_cost'] > 40000]"
   ]
  },
  {
   "cell_type": "markdown",
   "metadata": {},
   "source": [
    "## рассмотрим все заказы с повторояющимся id"
   ]
  },
  {
   "cell_type": "code",
   "execution_count": null,
   "metadata": {},
   "outputs": [],
   "source": [
    "duplicates = filtered_df[filtered_df.duplicated(['order_id', 'customer_id', 'entry_date'], keep=False)].sort_values('order_id')\n",
    "duplicates.head(10)"
   ]
  },
  {
   "cell_type": "markdown",
   "metadata": {},
   "source": [
    "на данный момент не ясно чем вызвано дублирование данных, возможно это редактирование заказа и необходимо оставить только последнюю запись, либо это части заказа которые следует объеденить в одну или же это особенност при сборе данных. Поэтому продолжим работать с данными в первоначальном виде."
   ]
  },
  {
   "cell_type": "markdown",
   "metadata": {},
   "source": [
    "## Изучим полноту данных, анализируя время записей и посчитаем по месяцам количество дней, в которых не было продаж чтобы определить где содержиться основная часть данных"
   ]
  },
  {
   "cell_type": "code",
   "execution_count": null,
   "metadata": {},
   "outputs": [],
   "source": [
    "min_date = filtered_df['entry_date'].min()\n",
    "max_date = filtered_df['entry_date'].max()\n",
    "all_dates = pd.date_range(start=min_date, end=max_date, freq='D')\n",
    "\n",
    "# Уникальные даты с продажами\n",
    "sales_dates = filtered_df[['entry_date']].drop_duplicates()\n",
    "\n",
    "# Создаём DataFrame со всеми датами\n",
    "full_date_df = pd.DataFrame({'date': all_dates})\n",
    "full_date_df['year_month'] = full_date_df['date'].dt.to_period('M')\n",
    "\n",
    "# Помечаем даты с продажами\n",
    "full_date_df['has_sales'] = full_date_df['date'].isin(sales_dates['entry_date'])\n",
    "\n",
    "# Группируем по месяцам и считаем дни без продаж\n",
    "result = full_date_df.groupby('year_month')['has_sales'].agg(\n",
    "    total_days='count',\n",
    "    sales_days='sum',\n",
    "    no_sales_days=lambda x: (x == False).sum()\n",
    ").sort_values(by='year_month', ascending=False).reset_index()\n",
    "\n",
    "result"
   ]
  },
  {
   "cell_type": "code",
   "execution_count": null,
   "metadata": {},
   "outputs": [],
   "source": [
    "#визуализируем результаты\n",
    "plt.figure(figsize=(12, 6))\n",
    "plt.bar(result['year_month'].astype(str), result['no_sales_days'])\n",
    "plt.title('Количество дней без продаж по месяцам')\n",
    "plt.xlabel('Месяц')\n",
    "plt.ylabel('Дней без продаж')\n",
    "plt.xticks(rotation=45)\n",
    "plt.grid(axis='y')\n",
    "plt.show()"
   ]
  },
  {
   "cell_type": "markdown",
   "metadata": {},
   "source": [
    "по полученным результатам мы видим что в магазине в основном множество покупок в один день в следствии чего было получено так много дней без продаж"
   ]
  },
  {
   "cell_type": "markdown",
   "metadata": {},
   "source": [
    "основные данные о продажах представлены за 2019 год, поэтому только с ним продолжим работать"
   ]
  },
  {
   "cell_type": "code",
   "execution_count": null,
   "metadata": {},
   "outputs": [],
   "source": [
    "filtered_df = filtered_df[filtered_df['entry_date'] > '2019-01-01 00:00:00']"
   ]
  },
  {
   "cell_type": "code",
   "execution_count": null,
   "metadata": {},
   "outputs": [],
   "source": [
    "filtered_df.info()"
   ]
  },
  {
   "cell_type": "markdown",
   "metadata": {},
   "source": [
    "## Оценим по часам и дням недели количество заказов и количество уникальных покупателей и рассмотрим цикличность покупательской активности"
   ]
  },
  {
   "cell_type": "code",
   "execution_count": null,
   "metadata": {},
   "outputs": [],
   "source": [
    "filtered_df['day_of_week'] = filtered_df['entry_date'].dt.day_name()  \n",
    "filtered_df['hour'] = filtered_df['entry_date'].dt.hour"
   ]
  },
  {
   "cell_type": "code",
   "execution_count": null,
   "metadata": {},
   "outputs": [],
   "source": [
    "#найдем количесво заказов и пользователей по дням недели\n",
    "d = filtered_df.groupby('day_of_week').agg(orders_count=('order_id', 'count'),unique_customers=('customer_id', 'nunique'))\\\n",
    ".reindex(['Monday', 'Tuesday', 'Wednesday', 'Thursday', 'Friday', 'Saturday', 'Sunday'])\n",
    "d"
   ]
  },
  {
   "cell_type": "code",
   "execution_count": null,
   "metadata": {},
   "outputs": [],
   "source": [
    "#найдем количесво заказов и пользователей по часам\n",
    "dh = filtered_df.groupby('hour').agg(orders_count=('order_id', 'count'),unique_customers=('customer_id', 'nunique')).sort_index()\n",
    "dh"
   ]
  },
  {
   "cell_type": "code",
   "execution_count": null,
   "metadata": {},
   "outputs": [],
   "source": [
    "# Визуализация\n",
    "plt.figure(figsize=(18, 12))\n",
    "\n",
    "# График 1: Активность по дням недели\n",
    "plt.subplot(2, 2, 1)\n",
    "sns.barplot(x=d.index, y='orders_count', data=d, color='royalblue', order=['Monday', 'Tuesday', 'Wednesday', 'Thursday', 'Friday', 'Saturday', 'Sunday'])\n",
    "plt.title('Общее количество заказов по дням недели', pad=20)\n",
    "plt.xlabel('День недели')\n",
    "plt.ylabel('Количество заказов')\n",
    "plt.xticks(rotation=45)\n",
    "\n",
    "plt.subplot(2, 2, 2)\n",
    "sns.barplot(x=d.index, y='unique_customers', data=d, color='salmon', order=['Monday', 'Tuesday', 'Wednesday', 'Thursday', 'Friday', 'Saturday', 'Sunday'])\n",
    "plt.title('Уникальные покупатели по дням недели', pad=20)\n",
    "plt.xlabel('День недели')\n",
    "plt.ylabel('Количество покупателей')\n",
    "plt.xticks(rotation=45)\n",
    "\n",
    "# График 2: Активность по часам\n",
    "plt.subplot(2, 2, 3)\n",
    "sns.lineplot(x=dh.index, y='orders_count', data=dh,\n",
    "             marker='o', color='royalblue', linewidth=2.5)\n",
    "plt.title('Распределение заказов по часам', pad=20)\n",
    "plt.xlabel('Час дня')\n",
    "plt.ylabel('Количество заказов')\n",
    "plt.xticks(range(0, 24))\n",
    "plt.grid(True, alpha=0.3)\n",
    "\n",
    "plt.subplot(2, 2, 4)\n",
    "sns.lineplot(x=dh.index, y='unique_customers', data=dh,\n",
    "             marker='o', color='salmon', linewidth=2.5)\n",
    "plt.title('Распределение покупателей по часам', pad=20)\n",
    "plt.xlabel('Час дня')\n",
    "plt.ylabel('Количество покупателей')\n",
    "plt.xticks(range(0, 24))\n",
    "plt.grid(True, alpha=0.3)\n",
    "\n",
    "plt.tight_layout()\n",
    "plt.show()"
   ]
  },
  {
   "cell_type": "markdown",
   "metadata": {},
   "source": [
    "На графике часовой активности наблюдается пик в 12 часов и резкое снижение активности, это можно выделить как цикличность активности клиентов которая растет в первой половине дня и падает к к концу.При этом на графике распределения заказов по часам наблюдается два пика в 12 часов и в 15 при условии что среднее количество покупателей к 15 часам на порядок ниже чем в 12 часов.  А по дням недели наблюдается максимальная активность клиентов в воскресенье, после чего происходит спад до минимального уровня во вторник и после чего показатели постепенно увеличиваются к началу выходных с небольшой просадкой в субботу. Это можно охарактеризовать как цикл клиентской активности, начинающийся с минимального значения во вторник, который возрастает до конца недели и уменьшающийся ко вторнику."
   ]
  },
  {
   "cell_type": "markdown",
   "metadata": {},
   "source": [
    "## Рассчитаем по месяцам среднюю выручку с клиента в день и количество уникальных покупателей"
   ]
  },
  {
   "cell_type": "code",
   "execution_count": null,
   "metadata": {},
   "outputs": [],
   "source": [
    "filtered_df['entry_date_month'] = pd.to_datetime(filtered_df['entry_date']).dt.month"
   ]
  },
  {
   "cell_type": "code",
   "execution_count": null,
   "metadata": {},
   "outputs": [],
   "source": [
    "#рассчитаем число уникальных клиентов и общую выручку по месяцам\n",
    "stats = filtered_df.groupby('entry_date_month').agg(\n",
    "    total_revenue=('total_cost', 'sum'),\n",
    "    unique_users=('customer_id', 'nunique')\n",
    ").reset_index()\n",
    "\n",
    "# вычисляем среднюю выручку на клиента\n",
    "stats['avg_revenue_per_user'] = stats['total_revenue'] / stats['unique_users']\n",
    "stats"
   ]
  },
  {
   "cell_type": "code",
   "execution_count": null,
   "metadata": {},
   "outputs": [],
   "source": [
    "#визуализируем результаты\n",
    "fig, ax = plt.subplots(nrows=1, ncols=2, figsize=(12, 8))\n",
    "\n",
    "sns.barplot(data=stats, x='entry_date_month', y='avg_revenue_per_user', ax=ax[0], color='skyblue')\n",
    "ax[0].set_title('Средняя выручка с клиента по месяцам')\n",
    "ax[0].set_xlabel('Месяц')\n",
    "ax[0].set_ylabel('Средняя выручка')\n",
    "ax[0].tick_params(axis='x', rotation=45)\n",
    "\n",
    "\n",
    "sns.barplot(data=stats, x='entry_date_month', y='unique_users', ax=ax[1], color='salmon')\n",
    "ax[1].set_title('Количество уникальных клиентов по месяцам')\n",
    "ax[1].set_xlabel('Месяц')\n",
    "ax[1].set_ylabel('Количество')\n",
    "ax[1].tick_params(axis='x', rotation=45)\n",
    "\n",
    "plt.tight_layout()\n",
    "plt.show()"
   ]
  },
  {
   "cell_type": "markdown",
   "metadata": {},
   "source": [
    "наибольшая клиентская активность наблюдается в осенние месяцы, но не смотря на это средняя выручка с клиента в этот период увеличивается всреднем на 3000.В декабре такие низкие показатели так как данные были собраны не за весь месяц. В зимние месяцы число клиентов падает до своего минимума и после чего постепенно возрастает с каждым месяцем, но при этом средняя выручка клиентов не имеет таких просадок и находится на одном уровне"
   ]
  },
  {
   "cell_type": "markdown",
   "metadata": {},
   "source": [
    "## Рассчитаем стики-фактор за второй и третий квартал 2019 года."
   ]
  },
  {
   "cell_type": "code",
   "execution_count": null,
   "metadata": {},
   "outputs": [],
   "source": [
    "filtered_df.head(1)"
   ]
  },
  {
   "cell_type": "code",
   "execution_count": null,
   "metadata": {},
   "outputs": [],
   "source": [
    "# Добавим необходимые колонки\n",
    "filtered_df['quarter'] = filtered_df['entry_date'].dt.quarter\n",
    "filtered_df['entry_day'] = filtered_df['entry_date'].dt.date\n",
    "filtered_df['entry_date_month'] = pd.to_datetime(filtered_df['entry_date']).dt.month\n",
    "\n",
    "# Расчет DAU - группируем по полной дате (entry_date)\n",
    "dau = filtered_df.groupby('entry_day').agg(\n",
    "    count_users=('customer_id', 'nunique'),\n",
    "    quarter=('quarter', 'first')\n",
    ").reset_index()\n",
    "\n",
    "# Расчет MAU - группируем по месяцу (entry_date_month)\n",
    "mau = filtered_df.groupby('entry_date_month').agg(\n",
    "    count_users=('customer_id', 'nunique'),\n",
    "    quarter=('quarter', 'first')\n",
    ").reset_index()\n",
    "\n",
    "# Средние значения для кварталов\n",
    "avg_dau_q2 = dau[dau['quarter'] == 2]['count_users'].mean()\n",
    "avg_dau_q3 = dau[dau['quarter'] == 3]['count_users'].mean()\n",
    "avg_mau_q2 = mau[mau['quarter'] == 2]['count_users'].mean()\n",
    "avg_mau_q3 = mau[mau['quarter'] == 3]['count_users'].mean()\n",
    "\n",
    "sticky_q2 = avg_dau_q2 / avg_mau_q2\n",
    "sticky_q3 = avg_dau_q3 / avg_mau_q3\n",
    "\n",
    "print(f\"Стики-фактор для Q2: {sticky_q2:.4f}\")\n",
    "print(f\"Стики-фактор для Q3: {sticky_q3:.4f}\")"
   ]
  },
  {
   "cell_type": "markdown",
   "metadata": {},
   "source": [
    "Стики фактор показывает как регульрно клиенты пользуются услугами нашего магазина и по результатам за 2 и 3 кварталы 2019 года мы видим что в среднем около 5% пользователей пользуются нашими услугами ежедневно"
   ]
  },
  {
   "cell_type": "code",
   "execution_count": null,
   "metadata": {},
   "outputs": [],
   "source": [
    "dau = filtered_df.groupby('entry_day').agg(\n",
    "    count_users=('customer_id', 'nunique'),\n",
    "    quarter=('quarter', 'first')\n",
    ").reset_index()\n",
    "dau"
   ]
  },
  {
   "cell_type": "code",
   "execution_count": null,
   "metadata": {},
   "outputs": [],
   "source": [
    "dau['quarter'].value_counts()"
   ]
  },
  {
   "cell_type": "markdown",
   "metadata": {},
   "source": [
    "## Составим профиль каждого клиента с информацией о количестве заказов, дате первого и последнего заказа, общей суммуе всех заказов, средней цену заказа, первом заказанном товаре"
   ]
  },
  {
   "cell_type": "code",
   "execution_count": null,
   "metadata": {},
   "outputs": [],
   "source": [
    "profiles = filtered_df.sort_values(by=['customer_id', 'entry_date', 'total_cost', 'order_id'])"
   ]
  },
  {
   "cell_type": "code",
   "execution_count": null,
   "metadata": {},
   "outputs": [],
   "source": [
    "profiles = profiles.groupby('customer_id').agg(orders_count = ('order_id', 'nunique'),\\\n",
    "                                    min_date = ('entry_date', 'min'),\\\n",
    "                                    max_date = ('entry_date', 'max'),\\\n",
    "                                    total_sum_orders = ('total_cost', 'sum'),           \n",
    "                                    first_product = ('entry', 'first')).reset_index()\n",
    "\n",
    "#рассчитаем среднюю стоимость заказа\n",
    "profiles['mean_cost_orders'] = profiles['total_sum_orders'] / profiles['orders_count']\n",
    "profiles"
   ]
  },
  {
   "cell_type": "markdown",
   "metadata": {},
   "source": [
    "## Разделим клиентов на возвратных и нет по признаку наличия повторных покупок и для каждой из групп рассчитаем средние показатели"
   ]
  },
  {
   "cell_type": "code",
   "execution_count": null,
   "metadata": {},
   "outputs": [],
   "source": [
    "returning_customers = profiles[profiles['orders_count'] > 1]  # Возвратные\n",
    "one_time_customers = profiles[profiles['orders_count'] == 1]  # Невозвратные"
   ]
  },
  {
   "cell_type": "code",
   "execution_count": null,
   "metadata": {},
   "outputs": [],
   "source": [
    "#функция для расчета средних показателей в группах\n",
    "def analyze_group(df, group_name):\n",
    "    print(f\"\\nАнализ группы: {group_name}\")\n",
    "    print(f\"Количество клиентов: {len(df)}\")\n",
    "    print(\"Средние показатели:\")\n",
    "    print(f\"- Число заказов: {df['orders_count'].mean():.2f}\")\n",
    "    print(f\"- Общая сумма заказов: {df['total_sum_orders'].mean():.2f}\")\n",
    "    print(f\"- Средний чек: {df['mean_cost_orders'].mean():.2f}\")\n",
    "    print(f\"- Время между первым и последним заказом (дней): {(df['max_date'] - df['min_date']).dt.days.mean():.2f}\")\n",
    "\n",
    "# Применяем к обеим группам\n",
    "analyze_group(returning_customers, \"Возвратные клиенты\")\n",
    "analyze_group(one_time_customers, \"Невозвратные клиенты\")"
   ]
  },
  {
   "cell_type": "markdown",
   "metadata": {},
   "source": [
    "около 60% клиентов возвращаются за нашими услугами и в среднем делают около 5 заказов и пользуются сервисом около полу года, также стоит заметить что средний чек в двух группах отличается всего на 1000 рублей"
   ]
  },
  {
   "cell_type": "code",
   "execution_count": null,
   "metadata": {},
   "outputs": [],
   "source": [
    "#рассмотрим топ 5 популярных товаров у клиентов \n",
    "returning_customers['first_product'].value_counts().head(5)"
   ]
  },
  {
   "cell_type": "markdown",
   "metadata": {},
   "source": [
    "## Проведем RFM-сегментацию клиентов "
   ]
  },
  {
   "cell_type": "code",
   "execution_count": null,
   "metadata": {},
   "outputs": [],
   "source": [
    "filtered_df['entry_date'].max()"
   ]
  },
  {
   "cell_type": "markdown",
   "metadata": {},
   "source": [
    "предположим что анализ начал проводиться 11 декабря 2019 года"
   ]
  },
  {
   "cell_type": "code",
   "execution_count": null,
   "metadata": {},
   "outputs": [],
   "source": [
    "#рассчитаем разницу между последней покупкой клиента и началом анализа\n",
    "filtered_df['orders_recency'] = (pd.to_datetime('2019-12-11') - filtered_df.groupby('customer_id')['entry_date'].transform('max')).dt.days"
   ]
  },
  {
   "cell_type": "code",
   "execution_count": null,
   "metadata": {},
   "outputs": [],
   "source": [
    "filtered_df.head()"
   ]
  },
  {
   "cell_type": "code",
   "execution_count": null,
   "metadata": {},
   "outputs": [],
   "source": [
    "#рассчитаем необходимые метрики\n",
    "rfm = filtered_df.groupby('customer_id').agg(recency =('orders_recency', 'min'),\\\n",
    "                                          frequency = ('order_id', 'nunique'),\\\n",
    "                                          monetary = ('total_cost', 'sum')).reset_index()\n",
    "rfm.head()"
   ]
  },
  {
   "cell_type": "code",
   "execution_count": null,
   "metadata": {},
   "outputs": [],
   "source": [
    "#разделим данные по группам\n",
    "rfm['r'] = pd.qcut(rfm['recency'], q=3, labels=[3,2,1])\n",
    "rfm['f'] = pd.cut(rfm['frequency'], bins=[0,1,10,np.inf], labels=[1,2,3])\n",
    "rfm['m'] = pd.qcut(rfm['monetary'], q=3, labels=[1,2,3])\n",
    "\n",
    "# Найдем групповой RFM индекс:\n",
    "rfm[['r','f','m']] = rfm[['r','f','m']].astype('str')\n",
    "rfm['rfm_group'] = rfm['r'] + rfm['f'] + rfm['m']\n",
    "\n",
    "# Найдем сумму индексов RFM:\n",
    "rfm[['r','f','m']] = rfm[['r','f','m']].astype('int')\n",
    "rfm['rfm_sum'] = rfm[['r','f','m']].sum(axis=1)\n",
    "rfm"
   ]
  },
  {
   "cell_type": "code",
   "execution_count": null,
   "metadata": {},
   "outputs": [],
   "source": [
    "# Построим график treemap для визуализации результатов RFM сегментации:\n",
    "fig = px.treemap(rfm,\n",
    "                 path=['rfm_group'], # Выбираем RFM-сегменты\n",
    "                 values='customer_id', # Устанавливаем размер - количество покупателей\n",
    "                 color='rfm_sum', # Цвет сегмента будет определять сумма RFM\n",
    "                 color_continuous_scale='Sunset',\n",
    "                 title='RFM сегментация пользователей')\n",
    "\n",
    "# Отобразим график:\n",
    "fig.show()"
   ]
  },
  {
   "cell_type": "code",
   "execution_count": null,
   "metadata": {},
   "outputs": [],
   "source": [
    "#рассмотрим получившиеся группы\n",
    "rfm['rfm_group'].value_counts()"
   ]
  },
  {
   "cell_type": "markdown",
   "metadata": {},
   "source": [
    "большинство клиентов попало в группу 111, от которой следует либо отказаться либо реанимировать"
   ]
  },
  {
   "cell_type": "markdown",
   "metadata": {},
   "source": [
    "некоторое способы работы с данными группами:"
   ]
  },
  {
   "cell_type": "markdown",
   "metadata": {},
   "source": [
    "- 111, 211, 311 Увеличить частоту покупок и средний чек. В этом помогут скидки за объём покупок и накопительные программы лояльности.\n",
    "- 112 Доходность на среднем уровне, но покупали давно и нечасто. Стоит применить стратегию реактивации — возвращающие письма, акции, промокоды.\n",
    "- 212, 312, 313, 213 Нужно увеличить частоту покупок. Стратегия — акции и скидки за регулярность покупок.\n",
    "- 333 «Золотой сегмент». Необходимо предпринять действия по удержанию: программы лояльности, индивидуальное обслуживание.\n",
    "- 323, 233, 223 Выгодные сегменты. Необходимо предпринять действия по удержанию: программы лояльности, индивидуальное обслуживание.\n",
    "- 123 Клиенты покупали достаточно давно, но на большую сумму и со средней частотой. Стратегия — реактивация: возвращающие письма, акции, промокоды.\n",
    "- 113 Клиенты покупали достаточно давно и нечасто, но на большую сумму. Стратегия — реактивация: возвращающие письма, акции, промокоды.\n",
    "- 133 Клиенты покупали достаточно давно, но часто и на большую сумму. Стратегия — реактивация: возвращающие письма, акции, промокоды.\n",
    "- 122 Клиенты покупали достаточно давно, но доходность и частота на среднем уровне. Стратегия — реактивация: возвращающие письма, акции, промокоды.\n",
    "- 322, 222 Стабильные сегменты. Необходимо предпринять действия по удержанию: программы лояльности, индивидуальное обслуживание."
   ]
  },
  {
   "cell_type": "markdown",
   "metadata": {},
   "source": [
    "## Сравним доли возвратных и невозвратных клиентов за второй и третий квартал 2019 года"
   ]
  },
  {
   "cell_type": "markdown",
   "metadata": {},
   "source": [
    "Проверим нулевую гипотезу что между долями возвратных и невозвратных клиентов нет значимых различий.Альтернативная гипотеза будет заключаться что между ними есть значимые отличия."
   ]
  },
  {
   "cell_type": "code",
   "execution_count": null,
   "metadata": {},
   "outputs": [],
   "source": [
    "filtered_df.columns"
   ]
  },
  {
   "cell_type": "code",
   "execution_count": null,
   "metadata": {},
   "outputs": [],
   "source": [
    "filtered_df.head(1)"
   ]
  },
  {
   "cell_type": "code",
   "execution_count": null,
   "metadata": {},
   "outputs": [],
   "source": [
    "#выделим необходимые временные периоды\n",
    "q2 = filtered_df[filtered_df['quarter'] == 2]\n",
    "q3 = filtered_df[filtered_df['quarter'] == 3]"
   ]
  },
  {
   "cell_type": "code",
   "execution_count": null,
   "metadata": {},
   "outputs": [],
   "source": [
    "#число вернувшихся и невернувшихся клиентов во 2 квартале\n",
    "return_q2 = q2.groupby('customer_id')['order_id'].nunique().reset_index(name='orders_count').query(\"orders_count > 1\").shape[0]\n",
    "print(return_q2)\n",
    "\n",
    "unreturn_q2 = q2.groupby('customer_id')['order_id'].nunique().reset_index(name='orders_count').query(\"orders_count == 1\").shape[0]\n",
    "print(unreturn_q2)\n",
    "\n",
    "#общее число клиентов \n",
    "sum_q2 = return_q2 + unreturn_q2\n",
    "print(sum_q2)"
   ]
  },
  {
   "cell_type": "code",
   "execution_count": null,
   "metadata": {},
   "outputs": [],
   "source": [
    "#число вернувшихся и невернувшихся клиентов в 3 квартале\n",
    "return_q3 = q3.groupby('customer_id')['order_id'].nunique().reset_index(name='orders_count').query(\"orders_count > 1\").shape[0]\n",
    "print(return_q3)\n",
    "\n",
    "unreturn_q3 = q3.groupby('customer_id')['order_id'].nunique().reset_index(name='orders_count').query(\"orders_count == 1\").shape[0]\n",
    "print(unreturn_q3)\n",
    "\n",
    "#общее число клиентов\n",
    "sum_q3 = return_q3 + unreturn_q3\n",
    "print(sum_q3)"
   ]
  },
  {
   "cell_type": "markdown",
   "metadata": {},
   "source": [
    "так как нужно узать есть ли значимая разница между числом конверсий, то воспользуемся z-тестом"
   ]
  },
  {
   "cell_type": "code",
   "execution_count": null,
   "metadata": {},
   "outputs": [],
   "source": [
    "alpha = 0.05\n",
    "successes = [796, 887]\n",
    "nobs = [1957, 2098]\n",
    "\n",
    "z_stat, p_value = proportions_ztest(count=successes, nobs=nobs)\n",
    "print(f\"P-value: {p_value}\")\n",
    "\n",
    "if (p_value < alpha):\n",
    "    print(\"Отвергаем нулевую гипотезу\")\n",
    "else:\n",
    "    print(\"Не получилось отвергнуть нулевую гипотезу\")"
   ]
  },
  {
   "cell_type": "markdown",
   "metadata": {},
   "source": [
    "По результатам тестирования было выяснено что между размерами долей возвратных и невозвратных клиентов за 2 и 3 квартал 2019 года нет значимых различий "
   ]
  },
  {
   "cell_type": "markdown",
   "metadata": {},
   "source": [
    "## Сравним средние чеки в странах с country_id, равному 3, 6 и 24."
   ]
  },
  {
   "cell_type": "markdown",
   "metadata": {},
   "source": [
    "Проверим гипотезу о том что средние чеки в странах 3, 6 и 24 не отличаются.Альтернативная гипотеза будет гласить что различия есть."
   ]
  },
  {
   "cell_type": "code",
   "execution_count": null,
   "metadata": {},
   "outputs": [],
   "source": [
    "filtered_df.columns"
   ]
  },
  {
   "cell_type": "code",
   "execution_count": null,
   "metadata": {},
   "outputs": [],
   "source": [
    "#колво заказов\n",
    "filtered_df['orders_count'] = filtered_df.groupby('customer_id')['order_id'].transform('count')\n",
    "\n",
    "#сумма всех заказов\n",
    "filtered_df['total_sum_orders']  = filtered_df.groupby('customer_id')['total_cost'].transform('sum')"
   ]
  },
  {
   "cell_type": "code",
   "execution_count": null,
   "metadata": {},
   "outputs": [],
   "source": [
    "#добавим столбец со средним чеком \n",
    "filtered_df['mean_cost_orders'] = filtered_df['total_sum_orders'] / filtered_df['orders_count']"
   ]
  },
  {
   "cell_type": "markdown",
   "metadata": {},
   "source": [
    "для того чтобы определить какой тест необходимо использовать, узнаем есть ли нормальность распределения и равенство дисперсий между выборок"
   ]
  },
  {
   "cell_type": "code",
   "execution_count": null,
   "metadata": {
    "scrolled": true
   },
   "outputs": [],
   "source": [
    "#нормальность распределений\n",
    "shap_3 = shapiro(filtered_df[filtered_df['country_id']== 3]['mean_cost_orders'])\n",
    "print(shap_3)\n",
    "\n",
    "shap_6 = shapiro(filtered_df[filtered_df['country_id'] == 6]['total_cost'])\n",
    "print(shap_6)\n",
    "\n",
    "shap_24 = shapiro(filtered_df[filtered_df['country_id'] == 24]['total_cost'])\n",
    "print(shap_24)"
   ]
  },
  {
   "cell_type": "code",
   "execution_count": null,
   "metadata": {},
   "outputs": [],
   "source": [
    "#равенство дисперсий\n",
    "_, p_levene = levene(filtered_df[filtered_df['country_id']== 3]['mean_cost_orders'],\\\n",
    "                filtered_df[filtered_df['country_id'] == 6]['total_cost'],\\\n",
    "                filtered_df[filtered_df['country_id'] == 24]['total_cost'])\n",
    "print(f'p-value теста Левена: {p_levene:.3f}')"
   ]
  },
  {
   "cell_type": "markdown",
   "metadata": {},
   "source": [
    "тк у выборок отсутствует нормальность распределения и равенство дисперсий, воспользуемся непараметрическим тестом Крускала-Уолиса"
   ]
  },
  {
   "cell_type": "code",
   "execution_count": null,
   "metadata": {},
   "outputs": [],
   "source": [
    "alpha = 0.05\n",
    "h_stat, p_kruskal = kruskal(\n",
    "    filtered_df[filtered_df['country_id'] == 3]['total_cost'],\n",
    "    filtered_df[filtered_df['country_id'] == 6]['total_cost'],\n",
    "    filtered_df[filtered_df['country_id'] == 24]['total_cost']\n",
    ")\n",
    "print(f'Результат Крускала-Уоллиса: H = {h_stat:.2f}, p-value = {p_kruskal:.3f}')\n",
    "\n",
    "if (p_kruskal < alpha):\n",
    "    print(\"Отвергаем нулевую гипотезу\")\n",
    "else:\n",
    "    print(\"Не получилось отвергнуть нулевую гипотезу\")"
   ]
  },
  {
   "cell_type": "markdown",
   "metadata": {},
   "source": [
    "тк р-значение больше 0.05 можно сделать вывод о том что статистические значимой разницы между средними нет "
   ]
  },
  {
   "cell_type": "code",
   "execution_count": null,
   "metadata": {},
   "outputs": [],
   "source": [
    "filtered_df.columns"
   ]
  },
  {
   "cell_type": "markdown",
   "metadata": {},
   "source": [
    "## Проверим гипотезу о том что клиенты, совершившие первую покупку в выходные имею большее LTV "
   ]
  },
  {
   "cell_type": "markdown",
   "metadata": {},
   "source": [
    "Нулевая гипотеза заключается в том что выручка с клиента за все его время жизни, который совершил первую покупку в выходной день не отличается от клиента сделавшего первую покупку в будний день. Альтернативная будет гласить что у первого типа клиентов выручка больше."
   ]
  },
  {
   "cell_type": "code",
   "execution_count": null,
   "metadata": {},
   "outputs": [],
   "source": [
    "# Найдем дату первого заказа каждого клиента\n",
    "filtered_df['first_order_date'] = filtered_df.groupby('customer_id')['entry_date'].transform('min')\n",
    "filtered_df['first_order_day'] = filtered_df['first_order_date'].dt.day_name()"
   ]
  },
  {
   "cell_type": "code",
   "execution_count": null,
   "metadata": {},
   "outputs": [],
   "source": [
    "# Размечаем клиентов по типу первого заказа\n",
    "filtered_df['weekend_first'] = filtered_df['first_order_day'].isin(['Saturday', 'Sunday'])\n",
    "\n",
    "# Расчет LTV (общая выручка от клиента)\n",
    "ltv = filtered_df.groupby('customer_id').agg(\n",
    "    ltv=('total_cost', 'sum'),\n",
    "    first_order_day=('first_order_day', 'first')\n",
    ").reset_index()\n",
    "ltv"
   ]
  },
  {
   "cell_type": "code",
   "execution_count": null,
   "metadata": {},
   "outputs": [],
   "source": [
    "#разделим клиентов на группы\n",
    "weekend_ltv = ltv[ltv['first_order_day'].isin(['Saturday', 'Sunday'])]['ltv']\n",
    "weekday_ltv = ltv[~ltv['first_order_day'].isin(['Saturday', 'Sunday'])]['ltv']\n",
    "\n",
    "print(f\"Средний LTV (выходные): {weekend_ltv.mean():.2f}\")\n",
    "print(f\"Средний LTV (будни): {weekday_ltv.mean():.2f}\")\n",
    "\n",
    "plt.figure(figsize=(10, 6))\n",
    "sns.boxplot(x='first_order_day', y='ltv', \n",
    "            data=ltv, \n",
    "            order=['Monday','Tuesday','Wednesday','Thursday','Friday','Saturday','Sunday'])\n",
    "plt.title('Распределение LTV по дню первого заказа')\n",
    "plt.show()"
   ]
  },
  {
   "cell_type": "code",
   "execution_count": null,
   "metadata": {},
   "outputs": [],
   "source": [
    "# Проверка нормальности\n",
    "_, p_weekend = shapiro(weekend_ltv)\n",
    "_, p_weekday = shapiro(weekday_ltv)\n",
    "print(f\"Тест Шапиро (выходные): p-value = {p_weekend:.3f}\")\n",
    "print(f\"Тест Шапиро (будни): p-value = {p_weekday:.3f}\")"
   ]
  },
  {
   "cell_type": "markdown",
   "metadata": {},
   "source": [
    "тк у выборок нет нормального распределения используем U-тест Манна-Уитни"
   ]
  },
  {
   "cell_type": "code",
   "execution_count": null,
   "metadata": {},
   "outputs": [],
   "source": [
    "stat, p_value = mannwhitneyu(weekend_ltv, weekday_ltv, alternative='greater')\n",
    "print(f\"p-value = {p_value:.4f}\")\n",
    "\n",
    "if p_value < 0.05:\n",
    "    print(\"Отвергаем нулевую гипотезу: LTV клиентов с первым заказом в выходные значимо выше\")\n",
    "else:\n",
    "    print(\"Нет оснований отвергать нулевую гипотезу\")"
   ]
  },
  {
   "cell_type": "code",
   "execution_count": null,
   "metadata": {},
   "outputs": [],
   "source": [
    "filtered_df['customer_id'].nunique()"
   ]
  },
  {
   "cell_type": "markdown",
   "metadata": {},
   "source": [
    "# Вывод"
   ]
  },
  {
   "cell_type": "markdown",
   "metadata": {},
   "source": [
    "В ходе проделанной работы была выполнена предобработка данных, определен временной период в котором хранится большинство данных, а именно 2019 год.Проведен анализ покупательской активности клиентов магазина для выявления цикличности, расчитан стики-фактор за 2 и 3 квартал 2019 года, а также составлены профили клиентов и на их основе пользователи были разделены на возвратных и нет. Была проведена rfm сегментация клиентов и предложены мероприятия по работе с каждой из групп. На последнем этапе были проверены 3 гипотезы при помощи статистических тестов.\n",
    "По итогам работы были получены следующие результаты:\n",
    "- Наибольшая клиентская активность наблюдается в воскреснье, в этот день услугами магазина пользуются в среднем 1687 клиентов, которые делают 55913 заказов. Самый непопулярный день недели это вторник - в среднем около 657 клиентов, совершающих 18686 заказов. В остальные дни показатели находятся на уровне от 1300 до 1500 уникальных клиентов в день и от 40000 до 50000 заказов. При анализе почасовой активности пользователей было выявлено что наибольшее число клиентов пользуются услугами магазина в полдень - в среднем 1458 человек, после чего их число постепенно уменьшается, при этом число заказов имеет два максимума - в 12 и 15 часов с общим числом заказов 44691 и 45583 соответственно.\n",
    "- При анализе средней выручки с клиента в день по месяцам было определено, что наибольшее число клиентов приходит в осенние месяцы, а именно от 1116 до 1389 при среднем количестве в районе 900, но при этом средняя выручка с клиента  в этот период практически не изменяется со среднего значения 32879 она увеличивается до 35684.\n",
    "- стики-фактор рассчитанный за 2 и 3 квартал 2019 года составил около 5%, такой низкий показатель можно объяснить тем, что магазин специализируется на подарочных товарах и в следствии чего у клиентов нет необходимости дарить что-то каждый день.\n",
    "- На основе составленных профилей клиентов была проведена сегментация по признаку наличия повторных покупок и были рассчитаны средние показатели полученных групп. Число возвратных клиентов составило 2542, а невозвратных 1489. Возвратные клиенты в среднем соверщают около 6 покупок со средним чеком 20624, клиенты совершившие единоразовую покупку имеют средний чек 19564. \n",
    "- После проведения сегментации клиентов по признакам:давность покупки, частота покупок и суммарной стоимости всех покупок было выявлено что из 4031 пользователя 589 являются самыми невыгодными по давности, частоте и общей сумме заказов, при этом, это самая многочисленная группа, над которой следует работать чтобы повысить ее показатели. Число самых выгодных клиентов составило 203, этих клиентов следует удерживать как можно дольше и повышать их показатели. В процессе работы были предоставлены рекомендации по работе с каждой группой.\n",
    "- Проверка гипотез о статистической значимости различий между долями возвратных и невозвратных клиентов за второй и третий квартал 2019 года, различий между средними чеками в странах с country_id, равному 3, 6 и 24, а также что клиенты совершившие первую покупку в выходные имею большее LTV, не подтвердилась.\n"
   ]
  },
  {
   "cell_type": "markdown",
   "metadata": {},
   "source": [
    "# Анализ товаров которые чаще всего покупают вместе"
   ]
  },
  {
   "cell_type": "code",
   "execution_count": null,
   "metadata": {},
   "outputs": [],
   "source": [
    "# Группируем товары по заказам (учитываем quantity)\n",
    "orders = filtered_df.groupby('order_id').apply(lambda x: list(x['entry'].repeat(x['quantity'])))\n",
    "\n",
    "# Словарь для подсчета совместных покупок\n",
    "pair_counts = defaultdict(int)\n",
    "\n",
    "# Перебираем все заказы\n",
    "for items in orders:\n",
    "    # Получаем уникальные товары в заказе \n",
    "    unique_items = list(set(items))\n",
    "    \n",
    "    # Генерируем все возможные пары в заказе\n",
    "    for pair in combinations(sorted(unique_items), 2):\n",
    "        pair_counts[pair] += 1\n",
    "        \n",
    "# Преобразуем в DataFrame\n",
    "pairs_df = pd.DataFrame.from_dict(pair_counts, orient='index', columns=['frequency'])\n",
    "pairs_df.index = pd.MultiIndex.from_tuples(pairs_df.index, names=['item1', 'item2'])\n",
    "\n",
    "# Сортируем по частоте\n",
    "pairs_df = pairs_df.sort_values('frequency', ascending=False)\n",
    "\n",
    "pairs_df.head(10)"
   ]
  }
 ],
 "metadata": {
  "ExecuteTimeLog": [
   {
    "duration": 1431,
    "start_time": "2025-04-03T11:17:25.123Z"
   },
   {
    "duration": 111,
    "start_time": "2025-04-03T11:18:13.799Z"
   },
   {
    "duration": 80,
    "start_time": "2025-04-03T11:23:46.961Z"
   },
   {
    "duration": 73,
    "start_time": "2025-04-03T11:24:04.915Z"
   },
   {
    "duration": 70,
    "start_time": "2025-04-03T11:24:50.451Z"
   },
   {
    "duration": 53,
    "start_time": "2025-04-03T11:25:01.495Z"
   },
   {
    "duration": 367,
    "start_time": "2025-04-03T11:25:54.613Z"
   },
   {
    "duration": 26,
    "start_time": "2025-04-03T11:26:54.682Z"
   },
   {
    "duration": 24,
    "start_time": "2025-04-03T11:28:05.676Z"
   },
   {
    "duration": 14,
    "start_time": "2025-04-03T11:28:15.276Z"
   },
   {
    "duration": 47,
    "start_time": "2025-04-03T11:28:29.118Z"
   },
   {
    "duration": 71,
    "start_time": "2025-04-03T11:28:49.315Z"
   },
   {
    "duration": 55,
    "start_time": "2025-04-03T11:30:31.897Z"
   },
   {
    "duration": 47,
    "start_time": "2025-04-03T11:30:56.126Z"
   },
   {
    "duration": 73,
    "start_time": "2025-04-03T11:31:57.969Z"
   },
   {
    "duration": 67,
    "start_time": "2025-04-03T11:32:22.346Z"
   },
   {
    "duration": 48,
    "start_time": "2025-04-03T11:33:11.800Z"
   },
   {
    "duration": 67,
    "start_time": "2025-04-03T11:33:23.908Z"
   },
   {
    "duration": 50,
    "start_time": "2025-04-03T11:38:56.608Z"
   },
   {
    "duration": 701,
    "start_time": "2025-04-03T11:43:17.149Z"
   },
   {
    "duration": 31,
    "start_time": "2025-04-03T11:44:17.335Z"
   },
   {
    "duration": 100,
    "start_time": "2025-04-03T11:46:40.325Z"
   },
   {
    "duration": 15,
    "start_time": "2025-04-03T11:46:51.199Z"
   },
   {
    "duration": 11,
    "start_time": "2025-04-03T11:47:42.652Z"
   },
   {
    "duration": 17,
    "start_time": "2025-04-03T11:49:28.311Z"
   },
   {
    "duration": 8,
    "start_time": "2025-04-03T11:49:33.152Z"
   },
   {
    "duration": 9,
    "start_time": "2025-04-03T11:50:10.954Z"
   },
   {
    "duration": 12,
    "start_time": "2025-04-03T11:50:58.732Z"
   },
   {
    "duration": 21,
    "start_time": "2025-04-03T11:58:33.347Z"
   },
   {
    "duration": 7,
    "start_time": "2025-04-03T12:03:10.803Z"
   },
   {
    "duration": 4,
    "start_time": "2025-04-03T12:03:28.077Z"
   },
   {
    "duration": 7,
    "start_time": "2025-04-03T12:03:36.644Z"
   },
   {
    "duration": 4,
    "start_time": "2025-04-03T12:04:05.968Z"
   },
   {
    "duration": 6,
    "start_time": "2025-04-03T12:04:10.543Z"
   },
   {
    "duration": 84,
    "start_time": "2025-04-03T12:05:21.504Z"
   },
   {
    "duration": 19,
    "start_time": "2025-04-03T12:07:58.717Z"
   },
   {
    "duration": 15,
    "start_time": "2025-04-03T12:08:29.648Z"
   },
   {
    "duration": 3,
    "start_time": "2025-04-03T12:10:02.956Z"
   },
   {
    "duration": 14,
    "start_time": "2025-04-03T12:10:08.193Z"
   },
   {
    "duration": 31,
    "start_time": "2025-04-03T12:11:24.869Z"
   },
   {
    "duration": 78241,
    "start_time": "2025-04-03T12:13:01.577Z"
   },
   {
    "duration": 233,
    "start_time": "2025-04-03T12:16:01.216Z"
   },
   {
    "duration": 13,
    "start_time": "2025-04-03T12:18:53.728Z"
   },
   {
    "duration": 6,
    "start_time": "2025-04-03T12:18:58.886Z"
   },
   {
    "duration": 61,
    "start_time": "2025-04-03T12:22:02.265Z"
   },
   {
    "duration": 27,
    "start_time": "2025-04-03T12:22:16.633Z"
   },
   {
    "duration": 81,
    "start_time": "2025-04-03T12:24:11.261Z"
   },
   {
    "duration": 106,
    "start_time": "2025-04-03T12:24:11.588Z"
   },
   {
    "duration": 67,
    "start_time": "2025-04-03T12:24:28.617Z"
   },
   {
    "duration": 17,
    "start_time": "2025-04-03T12:25:29.866Z"
   },
   {
    "duration": 17,
    "start_time": "2025-04-03T12:26:02.262Z"
   },
   {
    "duration": 155,
    "start_time": "2025-04-03T12:27:01.998Z"
   },
   {
    "duration": 47,
    "start_time": "2025-04-03T12:28:35.215Z"
   },
   {
    "duration": 41,
    "start_time": "2025-04-03T12:33:57.099Z"
   },
   {
    "duration": 19,
    "start_time": "2025-04-03T12:35:02.087Z"
   },
   {
    "duration": 163,
    "start_time": "2025-04-03T12:35:30.553Z"
   },
   {
    "duration": 1260,
    "start_time": "2025-04-03T12:37:56.385Z"
   },
   {
    "duration": 26,
    "start_time": "2025-04-03T12:38:11.715Z"
   },
   {
    "duration": 33,
    "start_time": "2025-04-03T12:38:24.846Z"
   },
   {
    "duration": 32,
    "start_time": "2025-04-03T12:38:48.612Z"
   },
   {
    "duration": 29,
    "start_time": "2025-04-03T12:39:09.341Z"
   },
   {
    "duration": 174,
    "start_time": "2025-04-03T12:39:47.948Z"
   },
   {
    "duration": 30,
    "start_time": "2025-04-03T12:39:56.112Z"
   },
   {
    "duration": 134,
    "start_time": "2025-04-03T12:40:00.027Z"
   },
   {
    "duration": 142,
    "start_time": "2025-04-03T12:40:27.044Z"
   },
   {
    "duration": 31,
    "start_time": "2025-04-03T12:40:31.537Z"
   },
   {
    "duration": 140,
    "start_time": "2025-04-03T12:40:33.577Z"
   },
   {
    "duration": 17,
    "start_time": "2025-04-03T12:43:32.655Z"
   },
   {
    "duration": 5,
    "start_time": "2025-04-03T14:50:00.058Z"
   },
   {
    "duration": 13,
    "start_time": "2025-04-03T14:50:17.368Z"
   },
   {
    "duration": 4,
    "start_time": "2025-04-03T14:50:51.830Z"
   },
   {
    "duration": 190,
    "start_time": "2025-04-03T14:51:15.016Z"
   },
   {
    "duration": 28,
    "start_time": "2025-04-03T14:51:16.300Z"
   },
   {
    "duration": 95,
    "start_time": "2025-04-03T14:51:18.883Z"
   },
   {
    "duration": 10,
    "start_time": "2025-04-03T14:51:20.611Z"
   },
   {
    "duration": 858,
    "start_time": "2025-04-03T14:51:25.150Z"
   },
   {
    "duration": 3,
    "start_time": "2025-04-03T14:51:30.672Z"
   },
   {
    "duration": 4,
    "start_time": "2025-04-03T14:51:32.413Z"
   },
   {
    "duration": 6,
    "start_time": "2025-04-03T14:51:33.860Z"
   },
   {
    "duration": 70,
    "start_time": "2025-04-03T14:51:37.059Z"
   },
   {
    "duration": 151,
    "start_time": "2025-04-03T14:51:46.178Z"
   },
   {
    "duration": 7,
    "start_time": "2025-04-03T14:51:48.627Z"
   },
   {
    "duration": 37,
    "start_time": "2025-04-03T14:51:50.920Z"
   },
   {
    "duration": 29,
    "start_time": "2025-04-03T14:51:53.108Z"
   },
   {
    "duration": 17,
    "start_time": "2025-04-03T14:51:58.034Z"
   },
   {
    "duration": 17,
    "start_time": "2025-04-03T14:52:00.152Z"
   },
   {
    "duration": 34,
    "start_time": "2025-04-03T14:52:07.252Z"
   },
   {
    "duration": 15,
    "start_time": "2025-04-03T14:52:11.003Z"
   },
   {
    "duration": 34,
    "start_time": "2025-04-03T14:52:22.411Z"
   },
   {
    "duration": 18,
    "start_time": "2025-04-03T14:52:26.322Z"
   },
   {
    "duration": 5,
    "start_time": "2025-04-03T14:52:27.482Z"
   },
   {
    "duration": 12,
    "start_time": "2025-04-03T14:52:39.388Z"
   },
   {
    "duration": 17,
    "start_time": "2025-04-03T14:52:41.927Z"
   },
   {
    "duration": 31,
    "start_time": "2025-04-03T14:53:11.565Z"
   },
   {
    "duration": 23,
    "start_time": "2025-04-03T14:53:56.340Z"
   },
   {
    "duration": 29,
    "start_time": "2025-04-03T14:54:15.097Z"
   },
   {
    "duration": 75,
    "start_time": "2025-04-03T14:55:06.182Z"
   },
   {
    "duration": 34,
    "start_time": "2025-04-03T14:57:53.829Z"
   },
   {
    "duration": 242,
    "start_time": "2025-04-03T14:58:16.259Z"
   },
   {
    "duration": 12,
    "start_time": "2025-04-03T14:59:36.380Z"
   },
   {
    "duration": 24,
    "start_time": "2025-04-03T14:59:48.003Z"
   },
   {
    "duration": 139,
    "start_time": "2025-04-03T15:01:30.248Z"
   },
   {
    "duration": 40,
    "start_time": "2025-04-03T15:02:21.164Z"
   },
   {
    "duration": 13,
    "start_time": "2025-04-03T15:03:27.883Z"
   },
   {
    "duration": 50,
    "start_time": "2025-04-03T15:03:36.185Z"
   },
   {
    "duration": 32,
    "start_time": "2025-04-03T15:03:44.038Z"
   },
   {
    "duration": 113,
    "start_time": "2025-04-03T15:04:19.192Z"
   },
   {
    "duration": 93,
    "start_time": "2025-04-03T15:05:08.321Z"
   },
   {
    "duration": 40,
    "start_time": "2025-04-03T15:05:23.245Z"
   },
   {
    "duration": 45,
    "start_time": "2025-04-03T15:05:31.817Z"
   },
   {
    "duration": 45,
    "start_time": "2025-04-03T15:06:10.049Z"
   },
   {
    "duration": 34,
    "start_time": "2025-04-03T15:06:13.155Z"
   },
   {
    "duration": 1145,
    "start_time": "2025-04-03T15:06:29.849Z"
   },
   {
    "duration": 37,
    "start_time": "2025-04-03T15:12:31.562Z"
   },
   {
    "duration": 41,
    "start_time": "2025-04-03T15:13:19.487Z"
   },
   {
    "duration": 472,
    "start_time": "2025-04-03T15:13:45.043Z"
   },
   {
    "duration": 12,
    "start_time": "2025-04-03T15:19:43.441Z"
   },
   {
    "duration": 42,
    "start_time": "2025-04-03T15:20:35.158Z"
   },
   {
    "duration": 39,
    "start_time": "2025-04-03T15:21:30.400Z"
   },
   {
    "duration": 34,
    "start_time": "2025-04-03T15:22:01.589Z"
   },
   {
    "duration": 7,
    "start_time": "2025-04-03T15:23:42.993Z"
   },
   {
    "duration": 4,
    "start_time": "2025-04-03T15:24:02.790Z"
   },
   {
    "duration": 12,
    "start_time": "2025-04-03T15:25:15.977Z"
   },
   {
    "duration": 6,
    "start_time": "2025-04-03T15:25:25.640Z"
   },
   {
    "duration": 4,
    "start_time": "2025-04-03T15:27:02.563Z"
   },
   {
    "duration": 96,
    "start_time": "2025-04-03T15:30:29.744Z"
   },
   {
    "duration": 61,
    "start_time": "2025-04-03T15:30:43.573Z"
   },
   {
    "duration": 57,
    "start_time": "2025-04-03T15:31:31.256Z"
   },
   {
    "duration": 15,
    "start_time": "2025-04-03T15:32:18.017Z"
   },
   {
    "duration": 78,
    "start_time": "2025-04-03T15:34:13.752Z"
   },
   {
    "duration": 69,
    "start_time": "2025-04-03T15:34:15.796Z"
   },
   {
    "duration": 7,
    "start_time": "2025-04-03T15:36:01.827Z"
   },
   {
    "duration": 11,
    "start_time": "2025-04-03T15:36:42.103Z"
   },
   {
    "duration": 6,
    "start_time": "2025-04-03T15:37:42.351Z"
   },
   {
    "duration": 5,
    "start_time": "2025-04-03T16:30:02.259Z"
   },
   {
    "duration": 14,
    "start_time": "2025-04-03T16:30:21.118Z"
   },
   {
    "duration": 14,
    "start_time": "2025-04-03T16:30:49.755Z"
   },
   {
    "duration": 16,
    "start_time": "2025-04-03T16:31:00.252Z"
   },
   {
    "duration": 32,
    "start_time": "2025-04-03T16:31:27.594Z"
   },
   {
    "duration": 125,
    "start_time": "2025-04-03T16:33:22.602Z"
   },
   {
    "duration": 102,
    "start_time": "2025-04-03T16:33:37.682Z"
   },
   {
    "duration": 99,
    "start_time": "2025-04-03T16:33:59.828Z"
   },
   {
    "duration": 3,
    "start_time": "2025-04-03T16:34:28.943Z"
   },
   {
    "duration": 6,
    "start_time": "2025-04-03T16:34:34.033Z"
   },
   {
    "duration": 5,
    "start_time": "2025-04-03T16:37:30.481Z"
   },
   {
    "duration": 34,
    "start_time": "2025-04-03T16:38:02.913Z"
   },
   {
    "duration": 3,
    "start_time": "2025-04-03T16:38:38.572Z"
   },
   {
    "duration": 19,
    "start_time": "2025-04-03T16:39:06.502Z"
   },
   {
    "duration": 18,
    "start_time": "2025-04-03T16:39:47.979Z"
   },
   {
    "duration": 20,
    "start_time": "2025-04-03T16:40:55.496Z"
   },
   {
    "duration": 5,
    "start_time": "2025-04-03T16:41:57.358Z"
   },
   {
    "duration": 1093,
    "start_time": "2025-04-03T16:44:38.692Z"
   },
   {
    "duration": 4,
    "start_time": "2025-04-03T16:45:11.275Z"
   },
   {
    "duration": 16,
    "start_time": "2025-04-03T16:47:13.184Z"
   },
   {
    "duration": 4,
    "start_time": "2025-04-03T16:47:17.626Z"
   },
   {
    "duration": 37,
    "start_time": "2025-04-03T16:49:37.728Z"
   },
   {
    "duration": 11,
    "start_time": "2025-04-03T16:50:04.386Z"
   },
   {
    "duration": 11,
    "start_time": "2025-04-03T16:51:13.484Z"
   },
   {
    "duration": 5,
    "start_time": "2025-04-03T16:54:57.492Z"
   },
   {
    "duration": 9,
    "start_time": "2025-04-03T17:10:16.207Z"
   },
   {
    "duration": 117,
    "start_time": "2025-04-03T17:16:50.455Z"
   },
   {
    "duration": 1080,
    "start_time": "2025-04-03T17:17:46.000Z"
   },
   {
    "duration": 76,
    "start_time": "2025-04-03T17:17:49.123Z"
   },
   {
    "duration": 44,
    "start_time": "2025-04-03T17:17:52.270Z"
   },
   {
    "duration": 41,
    "start_time": "2025-04-03T17:18:29.567Z"
   },
   {
    "duration": 8,
    "start_time": "2025-04-03T17:18:49.172Z"
   },
   {
    "duration": 203,
    "start_time": "2025-04-03T17:19:22.875Z"
   },
   {
    "duration": 11,
    "start_time": "2025-04-03T17:21:30.983Z"
   },
   {
    "duration": 5,
    "start_time": "2025-04-03T17:21:40.982Z"
   },
   {
    "duration": 12,
    "start_time": "2025-04-03T17:22:59.638Z"
   },
   {
    "duration": 3,
    "start_time": "2025-04-03T17:24:21.211Z"
   },
   {
    "duration": 8,
    "start_time": "2025-04-03T17:24:37.262Z"
   },
   {
    "duration": 7,
    "start_time": "2025-04-03T17:25:11.593Z"
   },
   {
    "duration": 1329,
    "start_time": "2025-04-08T16:18:33.179Z"
   },
   {
    "duration": 281,
    "start_time": "2025-04-08T16:18:34.510Z"
   },
   {
    "duration": 35,
    "start_time": "2025-04-08T16:18:34.793Z"
   },
   {
    "duration": 122,
    "start_time": "2025-04-08T16:18:34.830Z"
   },
   {
    "duration": 22,
    "start_time": "2025-04-08T16:18:34.954Z"
   },
   {
    "duration": 26,
    "start_time": "2025-04-08T16:18:34.978Z"
   },
   {
    "duration": 59,
    "start_time": "2025-04-08T16:18:35.006Z"
   },
   {
    "duration": 1074,
    "start_time": "2025-04-08T16:18:35.068Z"
   },
   {
    "duration": 11,
    "start_time": "2025-04-08T16:18:36.144Z"
   },
   {
    "duration": 28,
    "start_time": "2025-04-08T16:18:36.158Z"
   },
   {
    "duration": 32,
    "start_time": "2025-04-08T16:18:36.188Z"
   },
   {
    "duration": 57,
    "start_time": "2025-04-08T16:18:36.222Z"
   },
   {
    "duration": 148,
    "start_time": "2025-04-08T16:18:36.281Z"
   },
   {
    "duration": 15,
    "start_time": "2025-04-08T16:18:36.431Z"
   },
   {
    "duration": 68,
    "start_time": "2025-04-08T16:18:36.463Z"
   },
   {
    "duration": 58,
    "start_time": "2025-04-08T16:18:36.533Z"
   },
   {
    "duration": 63,
    "start_time": "2025-04-08T16:18:36.592Z"
   },
   {
    "duration": 72,
    "start_time": "2025-04-08T16:18:36.657Z"
   },
   {
    "duration": 0,
    "start_time": "2025-04-08T16:18:36.732Z"
   },
   {
    "duration": 0,
    "start_time": "2025-04-08T16:18:36.734Z"
   },
   {
    "duration": 0,
    "start_time": "2025-04-08T16:18:36.735Z"
   },
   {
    "duration": 0,
    "start_time": "2025-04-08T16:18:36.737Z"
   },
   {
    "duration": 0,
    "start_time": "2025-04-08T16:18:36.739Z"
   },
   {
    "duration": 0,
    "start_time": "2025-04-08T16:18:36.741Z"
   },
   {
    "duration": 0,
    "start_time": "2025-04-08T16:18:36.742Z"
   },
   {
    "duration": 0,
    "start_time": "2025-04-08T16:18:36.744Z"
   },
   {
    "duration": 0,
    "start_time": "2025-04-08T16:18:36.745Z"
   },
   {
    "duration": 0,
    "start_time": "2025-04-08T16:18:36.746Z"
   },
   {
    "duration": 0,
    "start_time": "2025-04-08T16:18:36.748Z"
   },
   {
    "duration": 0,
    "start_time": "2025-04-08T16:18:36.749Z"
   },
   {
    "duration": 0,
    "start_time": "2025-04-08T16:18:36.751Z"
   },
   {
    "duration": 0,
    "start_time": "2025-04-08T16:18:36.753Z"
   },
   {
    "duration": 0,
    "start_time": "2025-04-08T16:18:36.755Z"
   },
   {
    "duration": 0,
    "start_time": "2025-04-08T16:18:36.756Z"
   },
   {
    "duration": 0,
    "start_time": "2025-04-08T16:18:36.757Z"
   },
   {
    "duration": 1,
    "start_time": "2025-04-08T16:18:36.758Z"
   },
   {
    "duration": 0,
    "start_time": "2025-04-08T16:18:36.765Z"
   },
   {
    "duration": 0,
    "start_time": "2025-04-08T16:18:36.767Z"
   },
   {
    "duration": 0,
    "start_time": "2025-04-08T16:18:36.769Z"
   },
   {
    "duration": 0,
    "start_time": "2025-04-08T16:18:36.773Z"
   },
   {
    "duration": 0,
    "start_time": "2025-04-08T16:18:36.775Z"
   },
   {
    "duration": 0,
    "start_time": "2025-04-08T16:18:36.776Z"
   },
   {
    "duration": 0,
    "start_time": "2025-04-08T16:18:36.778Z"
   },
   {
    "duration": 0,
    "start_time": "2025-04-08T16:18:36.779Z"
   },
   {
    "duration": 0,
    "start_time": "2025-04-08T16:18:36.781Z"
   },
   {
    "duration": 1,
    "start_time": "2025-04-08T16:18:36.782Z"
   },
   {
    "duration": 0,
    "start_time": "2025-04-08T16:18:36.784Z"
   },
   {
    "duration": 0,
    "start_time": "2025-04-08T16:18:36.787Z"
   },
   {
    "duration": 0,
    "start_time": "2025-04-08T16:18:36.788Z"
   },
   {
    "duration": 0,
    "start_time": "2025-04-08T16:18:36.790Z"
   },
   {
    "duration": 0,
    "start_time": "2025-04-08T16:18:36.791Z"
   },
   {
    "duration": 0,
    "start_time": "2025-04-08T16:18:36.792Z"
   },
   {
    "duration": 0,
    "start_time": "2025-04-08T16:18:36.793Z"
   },
   {
    "duration": 0,
    "start_time": "2025-04-08T16:18:36.795Z"
   },
   {
    "duration": 0,
    "start_time": "2025-04-08T16:18:36.796Z"
   },
   {
    "duration": 0,
    "start_time": "2025-04-08T16:18:36.797Z"
   },
   {
    "duration": 0,
    "start_time": "2025-04-08T16:18:36.798Z"
   },
   {
    "duration": 0,
    "start_time": "2025-04-08T16:18:36.799Z"
   },
   {
    "duration": 1,
    "start_time": "2025-04-08T16:18:36.800Z"
   },
   {
    "duration": 0,
    "start_time": "2025-04-08T16:18:36.861Z"
   },
   {
    "duration": 0,
    "start_time": "2025-04-08T16:18:36.863Z"
   },
   {
    "duration": 0,
    "start_time": "2025-04-08T16:18:36.865Z"
   },
   {
    "duration": 0,
    "start_time": "2025-04-08T16:18:36.866Z"
   },
   {
    "duration": 0,
    "start_time": "2025-04-08T16:18:36.867Z"
   },
   {
    "duration": 0,
    "start_time": "2025-04-08T16:18:36.869Z"
   },
   {
    "duration": 0,
    "start_time": "2025-04-08T16:18:36.870Z"
   },
   {
    "duration": 0,
    "start_time": "2025-04-08T16:18:36.871Z"
   },
   {
    "duration": 0,
    "start_time": "2025-04-08T16:18:36.872Z"
   },
   {
    "duration": 0,
    "start_time": "2025-04-08T16:18:36.874Z"
   },
   {
    "duration": 0,
    "start_time": "2025-04-08T16:18:36.875Z"
   },
   {
    "duration": 0,
    "start_time": "2025-04-08T16:18:36.877Z"
   },
   {
    "duration": 0,
    "start_time": "2025-04-08T16:18:36.878Z"
   },
   {
    "duration": 0,
    "start_time": "2025-04-08T16:18:36.880Z"
   },
   {
    "duration": 0,
    "start_time": "2025-04-08T16:18:36.881Z"
   },
   {
    "duration": 0,
    "start_time": "2025-04-08T16:18:36.882Z"
   },
   {
    "duration": 0,
    "start_time": "2025-04-08T16:18:36.883Z"
   },
   {
    "duration": 0,
    "start_time": "2025-04-08T16:18:36.884Z"
   },
   {
    "duration": 0,
    "start_time": "2025-04-08T16:18:36.885Z"
   },
   {
    "duration": 0,
    "start_time": "2025-04-08T16:18:36.886Z"
   },
   {
    "duration": 0,
    "start_time": "2025-04-08T16:18:36.888Z"
   },
   {
    "duration": 0,
    "start_time": "2025-04-08T16:18:36.889Z"
   },
   {
    "duration": 0,
    "start_time": "2025-04-08T16:18:36.890Z"
   },
   {
    "duration": 0,
    "start_time": "2025-04-08T16:18:36.891Z"
   },
   {
    "duration": 0,
    "start_time": "2025-04-08T16:18:36.892Z"
   },
   {
    "duration": 0,
    "start_time": "2025-04-08T16:18:36.893Z"
   },
   {
    "duration": 0,
    "start_time": "2025-04-08T16:18:36.896Z"
   },
   {
    "duration": 1400,
    "start_time": "2025-04-09T18:32:58.983Z"
   },
   {
    "duration": 231,
    "start_time": "2025-04-09T18:33:00.613Z"
   },
   {
    "duration": 3,
    "start_time": "2025-04-09T18:33:02.352Z"
   },
   {
    "duration": 215,
    "start_time": "2025-04-09T18:33:03.122Z"
   },
   {
    "duration": 27,
    "start_time": "2025-04-09T18:33:03.520Z"
   },
   {
    "duration": 91,
    "start_time": "2025-04-09T18:33:06.337Z"
   },
   {
    "duration": 11,
    "start_time": "2025-04-09T18:33:07.217Z"
   },
   {
    "duration": 12,
    "start_time": "2025-04-09T18:33:07.494Z"
   },
   {
    "duration": 924,
    "start_time": "2025-04-09T18:33:08.326Z"
   },
   {
    "duration": 8,
    "start_time": "2025-04-09T18:33:09.252Z"
   },
   {
    "duration": 4,
    "start_time": "2025-04-09T18:33:09.261Z"
   },
   {
    "duration": 7,
    "start_time": "2025-04-09T18:33:09.566Z"
   },
   {
    "duration": 5,
    "start_time": "2025-04-09T18:33:10.086Z"
   },
   {
    "duration": 78,
    "start_time": "2025-04-09T18:33:10.565Z"
   },
   {
    "duration": 19,
    "start_time": "2025-04-09T18:33:11.264Z"
   },
   {
    "duration": 8,
    "start_time": "2025-04-09T18:33:11.607Z"
   },
   {
    "duration": 11,
    "start_time": "2025-04-09T18:33:11.812Z"
   },
   {
    "duration": 29,
    "start_time": "2025-04-09T18:33:12.337Z"
   },
   {
    "duration": 70571,
    "start_time": "2025-04-09T18:33:13.184Z"
   },
   {
    "duration": 191,
    "start_time": "2025-04-09T18:34:23.757Z"
   },
   {
    "duration": 5,
    "start_time": "2025-04-09T18:34:23.950Z"
   },
   {
    "duration": 48,
    "start_time": "2025-04-09T18:34:23.956Z"
   },
   {
    "duration": 28,
    "start_time": "2025-04-09T18:34:24.005Z"
   },
   {
    "duration": 38,
    "start_time": "2025-04-09T18:34:24.035Z"
   },
   {
    "duration": 17,
    "start_time": "2025-04-09T18:34:24.075Z"
   },
   {
    "duration": 155,
    "start_time": "2025-04-09T18:34:24.094Z"
   },
   {
    "duration": 49,
    "start_time": "2025-04-09T18:34:24.251Z"
   },
   {
    "duration": 31,
    "start_time": "2025-04-09T18:34:24.302Z"
   },
   {
    "duration": 155,
    "start_time": "2025-04-09T18:34:24.335Z"
   },
   {
    "duration": 15,
    "start_time": "2025-04-09T18:34:24.491Z"
   },
   {
    "duration": 163,
    "start_time": "2025-04-09T18:34:24.508Z"
   },
   {
    "duration": 34,
    "start_time": "2025-04-09T18:34:24.679Z"
   },
   {
    "duration": 128,
    "start_time": "2025-04-09T18:34:24.714Z"
   },
   {
    "duration": 18,
    "start_time": "2025-04-09T18:34:24.843Z"
   },
   {
    "duration": 42,
    "start_time": "2025-04-09T18:34:24.869Z"
   },
   {
    "duration": 15,
    "start_time": "2025-04-09T18:34:24.912Z"
   },
   {
    "duration": 27,
    "start_time": "2025-04-09T18:34:24.928Z"
   },
   {
    "duration": 29,
    "start_time": "2025-04-09T18:34:24.957Z"
   },
   {
    "duration": 124,
    "start_time": "2025-04-09T18:35:07.780Z"
   },
   {
    "duration": 7,
    "start_time": "2025-04-09T18:35:10.549Z"
   },
   {
    "duration": 34,
    "start_time": "2025-04-09T18:35:11.796Z"
   },
   {
    "duration": 33,
    "start_time": "2025-04-09T18:35:12.774Z"
   },
   {
    "duration": 15,
    "start_time": "2025-04-09T18:35:14.596Z"
   },
   {
    "duration": 14,
    "start_time": "2025-04-09T18:35:15.198Z"
   },
   {
    "duration": 130,
    "start_time": "2025-04-09T18:35:15.916Z"
   },
   {
    "duration": 51,
    "start_time": "2025-04-09T18:35:20.164Z"
   },
   {
    "duration": 27,
    "start_time": "2025-04-09T18:35:22.332Z"
   },
   {
    "duration": 143,
    "start_time": "2025-04-09T18:35:25.840Z"
   },
   {
    "duration": 18,
    "start_time": "2025-04-09T18:35:27.373Z"
   },
   {
    "duration": 153,
    "start_time": "2025-04-09T18:35:28.068Z"
   },
   {
    "duration": 26,
    "start_time": "2025-04-09T18:35:30.004Z"
   },
   {
    "duration": 123,
    "start_time": "2025-04-09T18:35:30.494Z"
   },
   {
    "duration": 15,
    "start_time": "2025-04-09T18:35:31.549Z"
   },
   {
    "duration": 11,
    "start_time": "2025-04-09T18:35:31.995Z"
   },
   {
    "duration": 17,
    "start_time": "2025-04-09T18:35:32.381Z"
   },
   {
    "duration": 32,
    "start_time": "2025-04-09T18:35:33.150Z"
   },
   {
    "duration": 141,
    "start_time": "2025-04-09T18:37:07.849Z"
   },
   {
    "duration": 5,
    "start_time": "2025-04-09T18:37:10.629Z"
   },
   {
    "duration": 36,
    "start_time": "2025-04-09T18:37:11.478Z"
   },
   {
    "duration": 26,
    "start_time": "2025-04-09T18:37:11.839Z"
   },
   {
    "duration": 14,
    "start_time": "2025-04-09T18:37:36.907Z"
   },
   {
    "duration": 16,
    "start_time": "2025-04-09T18:37:39.227Z"
   },
   {
    "duration": 1365,
    "start_time": "2025-04-10T04:38:21.815Z"
   },
   {
    "duration": 233,
    "start_time": "2025-04-10T04:38:23.181Z"
   },
   {
    "duration": 39,
    "start_time": "2025-04-10T04:38:23.416Z"
   },
   {
    "duration": 98,
    "start_time": "2025-04-10T04:38:23.456Z"
   },
   {
    "duration": 11,
    "start_time": "2025-04-10T04:38:23.556Z"
   },
   {
    "duration": 29,
    "start_time": "2025-04-10T04:38:23.569Z"
   },
   {
    "duration": 1552,
    "start_time": "2025-04-10T04:38:23.600Z"
   },
   {
    "duration": 10,
    "start_time": "2025-04-10T04:38:25.153Z"
   },
   {
    "duration": 47,
    "start_time": "2025-04-10T04:38:25.164Z"
   },
   {
    "duration": 48,
    "start_time": "2025-04-10T04:38:25.215Z"
   },
   {
    "duration": 13,
    "start_time": "2025-04-10T04:38:25.265Z"
   },
   {
    "duration": 125,
    "start_time": "2025-04-10T04:38:25.279Z"
   },
   {
    "duration": 14,
    "start_time": "2025-04-10T04:38:25.406Z"
   },
   {
    "duration": 21,
    "start_time": "2025-04-10T04:38:25.421Z"
   },
   {
    "duration": 31,
    "start_time": "2025-04-10T04:38:25.444Z"
   },
   {
    "duration": 36,
    "start_time": "2025-04-10T04:38:25.476Z"
   },
   {
    "duration": 81243,
    "start_time": "2025-04-10T04:38:25.513Z"
   },
   {
    "duration": 204,
    "start_time": "2025-04-10T04:39:46.758Z"
   },
   {
    "duration": 6,
    "start_time": "2025-04-10T04:39:46.964Z"
   },
   {
    "duration": 201,
    "start_time": "2025-04-10T04:39:46.972Z"
   },
   {
    "duration": 28,
    "start_time": "2025-04-10T04:39:47.175Z"
   },
   {
    "duration": 35,
    "start_time": "2025-04-10T04:39:47.205Z"
   },
   {
    "duration": 21,
    "start_time": "2025-04-10T04:39:47.242Z"
   },
   {
    "duration": 173,
    "start_time": "2025-04-10T04:39:47.265Z"
   },
   {
    "duration": 47,
    "start_time": "2025-04-10T04:39:47.439Z"
   },
   {
    "duration": 56,
    "start_time": "2025-04-10T04:39:47.487Z"
   },
   {
    "duration": 161,
    "start_time": "2025-04-10T04:39:47.545Z"
   },
   {
    "duration": 16,
    "start_time": "2025-04-10T04:39:47.710Z"
   },
   {
    "duration": 182,
    "start_time": "2025-04-10T04:39:47.727Z"
   },
   {
    "duration": 47,
    "start_time": "2025-04-10T04:39:47.911Z"
   },
   {
    "duration": 154,
    "start_time": "2025-04-10T04:39:47.960Z"
   },
   {
    "duration": 32,
    "start_time": "2025-04-10T04:39:48.116Z"
   },
   {
    "duration": 16,
    "start_time": "2025-04-10T04:39:48.150Z"
   },
   {
    "duration": 85,
    "start_time": "2025-04-10T04:39:48.168Z"
   },
   {
    "duration": 26,
    "start_time": "2025-04-10T04:39:48.254Z"
   },
   {
    "duration": 29,
    "start_time": "2025-04-10T04:39:48.282Z"
   },
   {
    "duration": 76,
    "start_time": "2025-04-10T04:39:48.313Z"
   },
   {
    "duration": 45,
    "start_time": "2025-04-10T04:39:48.391Z"
   },
   {
    "duration": 299,
    "start_time": "2025-04-10T04:39:48.438Z"
   },
   {
    "duration": 15,
    "start_time": "2025-04-10T04:39:48.739Z"
   },
   {
    "duration": 26,
    "start_time": "2025-04-10T04:39:48.756Z"
   },
   {
    "duration": 126,
    "start_time": "2025-04-10T04:39:48.784Z"
   },
   {
    "duration": 78,
    "start_time": "2025-04-10T04:39:48.912Z"
   },
   {
    "duration": 48,
    "start_time": "2025-04-10T04:39:48.992Z"
   },
   {
    "duration": 1221,
    "start_time": "2025-04-10T04:39:49.042Z"
   },
   {
    "duration": 119,
    "start_time": "2025-04-10T04:39:50.265Z"
   },
   {
    "duration": 52,
    "start_time": "2025-04-10T04:39:50.385Z"
   },
   {
    "duration": 571,
    "start_time": "2025-04-10T04:39:50.439Z"
   },
   {
    "duration": 11,
    "start_time": "2025-04-10T04:39:51.012Z"
   },
   {
    "duration": 145,
    "start_time": "2025-04-10T04:39:51.036Z"
   },
   {
    "duration": 38,
    "start_time": "2025-04-10T04:39:51.182Z"
   },
   {
    "duration": 48,
    "start_time": "2025-04-10T04:39:51.222Z"
   },
   {
    "duration": 6,
    "start_time": "2025-04-10T04:39:51.272Z"
   },
   {
    "duration": 34,
    "start_time": "2025-04-10T04:39:51.280Z"
   },
   {
    "duration": 10,
    "start_time": "2025-04-10T04:39:51.316Z"
   },
   {
    "duration": 121,
    "start_time": "2025-04-10T04:39:51.328Z"
   },
   {
    "duration": 67,
    "start_time": "2025-04-10T04:39:51.451Z"
   },
   {
    "duration": 20,
    "start_time": "2025-04-10T04:39:51.520Z"
   },
   {
    "duration": 23,
    "start_time": "2025-04-10T04:39:51.541Z"
   },
   {
    "duration": 20,
    "start_time": "2025-04-10T04:39:51.567Z"
   },
   {
    "duration": 6,
    "start_time": "2025-04-10T04:39:51.589Z"
   },
   {
    "duration": 26,
    "start_time": "2025-04-10T04:39:51.597Z"
   },
   {
    "duration": 27,
    "start_time": "2025-04-10T04:39:51.626Z"
   },
   {
    "duration": 40,
    "start_time": "2025-04-10T04:39:51.654Z"
   },
   {
    "duration": 49,
    "start_time": "2025-04-10T04:39:51.695Z"
   },
   {
    "duration": 629,
    "start_time": "2025-04-10T04:39:51.745Z"
   },
   {
    "duration": 6,
    "start_time": "2025-04-10T04:39:52.376Z"
   },
   {
    "duration": 76,
    "start_time": "2025-04-10T04:39:52.383Z"
   },
   {
    "duration": 83,
    "start_time": "2025-04-10T04:39:52.461Z"
   },
   {
    "duration": 18,
    "start_time": "2025-04-10T04:39:52.546Z"
   },
   {
    "duration": 76,
    "start_time": "2025-04-10T04:39:52.566Z"
   },
   {
    "duration": 45,
    "start_time": "2025-04-10T04:39:52.644Z"
   },
   {
    "duration": 48,
    "start_time": "2025-04-10T04:39:52.690Z"
   },
   {
    "duration": 38,
    "start_time": "2025-04-10T04:39:52.740Z"
   },
   {
    "duration": 58,
    "start_time": "2025-04-10T04:39:52.779Z"
   },
   {
    "duration": 36,
    "start_time": "2025-04-10T04:39:52.840Z"
   },
   {
    "duration": 67,
    "start_time": "2025-04-10T04:39:52.877Z"
   },
   {
    "duration": 94,
    "start_time": "2025-04-10T04:39:52.946Z"
   },
   {
    "duration": 99,
    "start_time": "2025-04-10T04:39:53.042Z"
   },
   {
    "duration": 134,
    "start_time": "2025-04-10T04:39:53.142Z"
   },
   {
    "duration": 98,
    "start_time": "2025-04-10T04:39:53.277Z"
   },
   {
    "duration": 423,
    "start_time": "2025-04-10T04:39:53.436Z"
   },
   {
    "duration": 5,
    "start_time": "2025-04-10T04:39:53.861Z"
   },
   {
    "duration": 18,
    "start_time": "2025-04-10T04:39:53.867Z"
   },
   {
    "duration": 143,
    "start_time": "2025-04-10T05:07:24.434Z"
   },
   {
    "duration": 128,
    "start_time": "2025-04-10T05:10:17.287Z"
   },
   {
    "duration": 163,
    "start_time": "2025-04-10T05:12:11.681Z"
   },
   {
    "duration": 1051,
    "start_time": "2025-04-10T05:12:19.948Z"
   },
   {
    "duration": 1509,
    "start_time": "2025-04-10T12:55:05.108Z"
   },
   {
    "duration": 237,
    "start_time": "2025-04-10T12:55:11.085Z"
   },
   {
    "duration": 33,
    "start_time": "2025-04-10T12:55:12.802Z"
   },
   {
    "duration": 114,
    "start_time": "2025-04-10T12:55:19.697Z"
   },
   {
    "duration": 13,
    "start_time": "2025-04-10T12:55:25.393Z"
   },
   {
    "duration": 14,
    "start_time": "2025-04-10T12:55:27.674Z"
   },
   {
    "duration": 1067,
    "start_time": "2025-04-10T12:55:42.002Z"
   },
   {
    "duration": 11,
    "start_time": "2025-04-10T12:55:45.375Z"
   },
   {
    "duration": 3,
    "start_time": "2025-04-10T12:55:51.424Z"
   },
   {
    "duration": 5,
    "start_time": "2025-04-10T12:56:02.409Z"
   },
   {
    "duration": 7,
    "start_time": "2025-04-10T12:56:03.904Z"
   },
   {
    "duration": 93,
    "start_time": "2025-04-10T12:56:07.201Z"
   },
   {
    "duration": 15,
    "start_time": "2025-04-10T12:56:08.265Z"
   },
   {
    "duration": 12,
    "start_time": "2025-04-10T12:56:09.233Z"
   },
   {
    "duration": 3,
    "start_time": "2025-04-10T13:56:34.242Z"
   },
   {
    "duration": 4,
    "start_time": "2025-04-10T13:56:40.666Z"
   },
   {
    "duration": 230,
    "start_time": "2025-04-10T13:56:42.907Z"
   },
   {
    "duration": 29,
    "start_time": "2025-04-10T13:56:43.324Z"
   },
   {
    "duration": 97,
    "start_time": "2025-04-10T13:56:47.325Z"
   },
   {
    "duration": 9,
    "start_time": "2025-04-10T13:56:48.299Z"
   },
   {
    "duration": 14,
    "start_time": "2025-04-10T13:56:48.583Z"
   },
   {
    "duration": 1025,
    "start_time": "2025-04-10T13:56:51.182Z"
   },
   {
    "duration": 10,
    "start_time": "2025-04-10T13:56:52.209Z"
   },
   {
    "duration": 3,
    "start_time": "2025-04-10T13:56:55.069Z"
   },
   {
    "duration": 4,
    "start_time": "2025-04-10T13:56:55.937Z"
   },
   {
    "duration": 6,
    "start_time": "2025-04-10T13:56:58.379Z"
   },
   {
    "duration": 73,
    "start_time": "2025-04-10T13:57:00.251Z"
   },
   {
    "duration": 11,
    "start_time": "2025-04-10T13:57:01.448Z"
   },
   {
    "duration": 9,
    "start_time": "2025-04-10T13:57:01.915Z"
   },
   {
    "duration": 13,
    "start_time": "2025-04-10T13:57:06.162Z"
   },
   {
    "duration": 25,
    "start_time": "2025-04-10T13:57:09.717Z"
   },
   {
    "duration": 165,
    "start_time": "2025-04-10T13:57:14.573Z"
   },
   {
    "duration": 6,
    "start_time": "2025-04-10T13:57:17.620Z"
   },
   {
    "duration": 38,
    "start_time": "2025-04-10T13:57:19.748Z"
   },
   {
    "duration": 30,
    "start_time": "2025-04-10T13:57:22.744Z"
   },
   {
    "duration": 23,
    "start_time": "2025-04-10T13:57:43.157Z"
   },
   {
    "duration": 18,
    "start_time": "2025-04-10T13:57:45.052Z"
   },
   {
    "duration": 18,
    "start_time": "2025-04-10T13:57:46.362Z"
   },
   {
    "duration": 34,
    "start_time": "2025-04-10T13:57:47.731Z"
   },
   {
    "duration": 37,
    "start_time": "2025-04-10T13:58:01.858Z"
   },
   {
    "duration": 261,
    "start_time": "2025-04-10T13:58:05.992Z"
   },
   {
    "duration": 16,
    "start_time": "2025-04-10T13:58:09.693Z"
   },
   {
    "duration": 28,
    "start_time": "2025-04-10T13:58:10.727Z"
   },
   {
    "duration": 127,
    "start_time": "2025-04-10T13:58:14.132Z"
   },
   {
    "duration": 75,
    "start_time": "2025-04-10T13:58:17.326Z"
   },
   {
    "duration": 40,
    "start_time": "2025-04-10T13:58:20.974Z"
   },
   {
    "duration": 1012,
    "start_time": "2025-04-10T13:58:23.197Z"
   },
   {
    "duration": 44,
    "start_time": "2025-04-10T13:58:28.426Z"
   },
   {
    "duration": 46,
    "start_time": "2025-04-10T13:58:31.974Z"
   },
   {
    "duration": 555,
    "start_time": "2025-04-10T13:58:34.285Z"
   },
   {
    "duration": 57,
    "start_time": "2025-04-10T13:59:04.985Z"
   },
   {
    "duration": 130,
    "start_time": "2025-04-10T13:59:18.245Z"
   },
   {
    "duration": 11,
    "start_time": "2025-04-10T13:59:53.047Z"
   },
   {
    "duration": 119,
    "start_time": "2025-04-10T14:00:07.275Z"
   },
   {
    "duration": 123,
    "start_time": "2025-04-10T14:00:14.083Z"
   },
   {
    "duration": 122,
    "start_time": "2025-04-10T14:00:32.843Z"
   },
   {
    "duration": 4,
    "start_time": "2025-04-10T14:00:56.985Z"
   },
   {
    "duration": 219,
    "start_time": "2025-04-10T14:00:59.611Z"
   },
   {
    "duration": 29,
    "start_time": "2025-04-10T14:01:00.260Z"
   },
   {
    "duration": 98,
    "start_time": "2025-04-10T14:01:03.451Z"
   },
   {
    "duration": 739,
    "start_time": "2025-04-10T14:01:07.846Z"
   },
   {
    "duration": 11,
    "start_time": "2025-04-10T14:01:13.380Z"
   },
   {
    "duration": 3,
    "start_time": "2025-04-10T14:01:16.531Z"
   },
   {
    "duration": 4,
    "start_time": "2025-04-10T14:01:18.370Z"
   },
   {
    "duration": 65,
    "start_time": "2025-04-10T14:01:21.164Z"
   },
   {
    "duration": 125,
    "start_time": "2025-04-10T14:01:28.663Z"
   },
   {
    "duration": 6,
    "start_time": "2025-04-10T14:01:31.726Z"
   },
   {
    "duration": 40,
    "start_time": "2025-04-10T14:01:38.529Z"
   },
   {
    "duration": 30,
    "start_time": "2025-04-10T14:01:40.306Z"
   },
   {
    "duration": 17,
    "start_time": "2025-04-10T14:01:53.153Z"
   },
   {
    "duration": 15,
    "start_time": "2025-04-10T14:01:56.500Z"
   },
   {
    "duration": 21,
    "start_time": "2025-04-10T14:01:58.944Z"
   },
   {
    "duration": 58,
    "start_time": "2025-04-10T14:02:09.047Z"
   },
   {
    "duration": 266,
    "start_time": "2025-04-10T14:02:14.930Z"
   },
   {
    "duration": 16,
    "start_time": "2025-04-10T14:02:28.921Z"
   },
   {
    "duration": 28,
    "start_time": "2025-04-10T14:02:31.376Z"
   },
   {
    "duration": 123,
    "start_time": "2025-04-10T14:02:37.417Z"
   },
   {
    "duration": 70,
    "start_time": "2025-04-10T14:02:38.223Z"
   },
   {
    "duration": 43,
    "start_time": "2025-04-10T14:02:42.623Z"
   },
   {
    "duration": 1083,
    "start_time": "2025-04-10T14:02:45.800Z"
   },
   {
    "duration": 44,
    "start_time": "2025-04-10T14:03:44.387Z"
   },
   {
    "duration": 40,
    "start_time": "2025-04-10T14:03:46.119Z"
   },
   {
    "duration": 10,
    "start_time": "2025-04-10T14:03:54.716Z"
   },
   {
    "duration": 127,
    "start_time": "2025-04-10T14:04:05.130Z"
   },
   {
    "duration": 39,
    "start_time": "2025-04-10T14:06:51.208Z"
   },
   {
    "duration": 6,
    "start_time": "2025-04-10T14:07:12.232Z"
   },
   {
    "duration": 130,
    "start_time": "2025-04-10T14:07:46.478Z"
   },
   {
    "duration": 74,
    "start_time": "2025-04-10T14:07:49.320Z"
   },
   {
    "duration": 5,
    "start_time": "2025-04-10T14:07:53.142Z"
   },
   {
    "duration": 10,
    "start_time": "2025-04-10T14:07:56.367Z"
   },
   {
    "duration": 7,
    "start_time": "2025-04-10T14:08:15.534Z"
   },
   {
    "duration": 7,
    "start_time": "2025-04-10T14:08:22.183Z"
   },
   {
    "duration": 17,
    "start_time": "2025-04-10T14:08:29.913Z"
   },
   {
    "duration": 40,
    "start_time": "2025-04-10T14:08:43.128Z"
   },
   {
    "duration": 31,
    "start_time": "2025-04-10T14:08:59.512Z"
   },
   {
    "duration": 405,
    "start_time": "2025-04-10T14:09:06.881Z"
   },
   {
    "duration": 7,
    "start_time": "2025-04-10T14:09:15.031Z"
   },
   {
    "duration": 27,
    "start_time": "2025-04-10T14:11:12.870Z"
   },
   {
    "duration": 13,
    "start_time": "2025-04-10T14:11:14.256Z"
   },
   {
    "duration": 12,
    "start_time": "2025-04-10T14:11:39.356Z"
   },
   {
    "duration": 10,
    "start_time": "2025-04-10T14:11:42.213Z"
   },
   {
    "duration": 14,
    "start_time": "2025-04-10T14:11:56.717Z"
   },
   {
    "duration": 19,
    "start_time": "2025-04-10T14:11:58.888Z"
   },
   {
    "duration": 21,
    "start_time": "2025-04-10T14:12:05.575Z"
   },
   {
    "duration": 5,
    "start_time": "2025-04-10T14:13:28.265Z"
   },
   {
    "duration": 12,
    "start_time": "2025-04-10T14:19:46.580Z"
   },
   {
    "duration": 523,
    "start_time": "2025-04-10T14:42:34.415Z"
   },
   {
    "duration": 62,
    "start_time": "2025-04-10T14:42:48.766Z"
   },
   {
    "duration": 100,
    "start_time": "2025-04-10T14:42:55.614Z"
   },
   {
    "duration": 149,
    "start_time": "2025-04-10T14:42:57.264Z"
   },
   {
    "duration": 213,
    "start_time": "2025-04-10T14:43:00.190Z"
   },
   {
    "duration": 4,
    "start_time": "2025-04-10T14:43:10.437Z"
   },
   {
    "duration": 9,
    "start_time": "2025-04-10T14:43:12.914Z"
   },
   {
    "duration": 8,
    "start_time": "2025-04-10T15:30:28.570Z"
   },
   {
    "duration": 5,
    "start_time": "2025-04-10T15:48:37.879Z"
   },
   {
    "duration": 30,
    "start_time": "2025-04-10T15:49:07.690Z"
   },
   {
    "duration": 14,
    "start_time": "2025-04-10T15:52:11.443Z"
   },
   {
    "duration": 1630,
    "start_time": "2025-04-10T15:52:42.006Z"
   },
   {
    "duration": 26,
    "start_time": "2025-04-10T15:53:01.942Z"
   },
   {
    "duration": 99,
    "start_time": "2025-04-10T16:00:29.634Z"
   },
   {
    "duration": 3307,
    "start_time": "2025-04-10T16:01:00.816Z"
   },
   {
    "duration": 6115,
    "start_time": "2025-04-10T16:01:21.761Z"
   },
   {
    "duration": 4373,
    "start_time": "2025-04-10T16:01:43.100Z"
   },
   {
    "duration": 4,
    "start_time": "2025-04-10T16:02:50.571Z"
   },
   {
    "duration": 13816,
    "start_time": "2025-04-10T16:03:45.922Z"
   },
   {
    "duration": 13650,
    "start_time": "2025-04-10T16:04:12.719Z"
   },
   {
    "duration": 1344,
    "start_time": "2025-04-10T17:10:32.162Z"
   },
   {
    "duration": 238,
    "start_time": "2025-04-10T17:10:33.508Z"
   },
   {
    "duration": 37,
    "start_time": "2025-04-10T17:10:33.748Z"
   },
   {
    "duration": 121,
    "start_time": "2025-04-10T17:10:33.787Z"
   },
   {
    "duration": 11,
    "start_time": "2025-04-10T17:10:33.910Z"
   },
   {
    "duration": 25,
    "start_time": "2025-04-10T17:10:33.922Z"
   },
   {
    "duration": 996,
    "start_time": "2025-04-10T17:10:33.949Z"
   },
   {
    "duration": 10,
    "start_time": "2025-04-10T17:10:34.947Z"
   },
   {
    "duration": 5,
    "start_time": "2025-04-10T17:10:34.959Z"
   },
   {
    "duration": 5,
    "start_time": "2025-04-10T17:10:34.966Z"
   },
   {
    "duration": 15,
    "start_time": "2025-04-10T17:10:34.972Z"
   },
   {
    "duration": 95,
    "start_time": "2025-04-10T17:10:34.988Z"
   },
   {
    "duration": 14,
    "start_time": "2025-04-10T17:10:35.085Z"
   },
   {
    "duration": 11,
    "start_time": "2025-04-10T17:10:35.102Z"
   },
   {
    "duration": 13,
    "start_time": "2025-04-10T17:10:35.114Z"
   },
   {
    "duration": 60,
    "start_time": "2025-04-10T17:10:35.129Z"
   },
   {
    "duration": 78560,
    "start_time": "2025-04-10T17:10:35.191Z"
   },
   {
    "duration": 203,
    "start_time": "2025-04-10T17:11:53.753Z"
   },
   {
    "duration": 16,
    "start_time": "2025-04-10T17:11:53.958Z"
   },
   {
    "duration": 54,
    "start_time": "2025-04-10T17:11:53.980Z"
   },
   {
    "duration": 27,
    "start_time": "2025-04-10T17:11:54.035Z"
   },
   {
    "duration": 26,
    "start_time": "2025-04-10T17:11:54.069Z"
   },
   {
    "duration": 16,
    "start_time": "2025-04-10T17:11:54.096Z"
   },
   {
    "duration": 175,
    "start_time": "2025-04-10T17:11:54.114Z"
   },
   {
    "duration": 46,
    "start_time": "2025-04-10T17:11:54.290Z"
   },
   {
    "duration": 55,
    "start_time": "2025-04-10T17:11:54.337Z"
   },
   {
    "duration": 156,
    "start_time": "2025-04-10T17:11:54.393Z"
   },
   {
    "duration": 26,
    "start_time": "2025-04-10T17:11:54.550Z"
   },
   {
    "duration": 168,
    "start_time": "2025-04-10T17:11:54.578Z"
   },
   {
    "duration": 51,
    "start_time": "2025-04-10T17:11:54.748Z"
   },
   {
    "duration": 153,
    "start_time": "2025-04-10T17:11:54.801Z"
   },
   {
    "duration": 32,
    "start_time": "2025-04-10T17:11:54.956Z"
   },
   {
    "duration": 16,
    "start_time": "2025-04-10T17:11:54.989Z"
   },
   {
    "duration": 15,
    "start_time": "2025-04-10T17:11:55.007Z"
   },
   {
    "duration": 49,
    "start_time": "2025-04-10T17:11:55.024Z"
   },
   {
    "duration": 88,
    "start_time": "2025-04-10T17:11:55.077Z"
   },
   {
    "duration": 42,
    "start_time": "2025-04-10T17:11:55.166Z"
   },
   {
    "duration": 276,
    "start_time": "2025-04-10T17:11:55.210Z"
   },
   {
    "duration": 20,
    "start_time": "2025-04-10T17:11:55.488Z"
   },
   {
    "duration": 98,
    "start_time": "2025-04-10T17:11:55.510Z"
   },
   {
    "duration": 126,
    "start_time": "2025-04-10T17:11:55.612Z"
   },
   {
    "duration": 93,
    "start_time": "2025-04-10T17:11:55.739Z"
   },
   {
    "duration": 51,
    "start_time": "2025-04-10T17:11:55.834Z"
   },
   {
    "duration": 1029,
    "start_time": "2025-04-10T17:11:55.887Z"
   },
   {
    "duration": 131,
    "start_time": "2025-04-10T17:11:56.918Z"
   },
   {
    "duration": 49,
    "start_time": "2025-04-10T17:11:57.050Z"
   },
   {
    "duration": 496,
    "start_time": "2025-04-10T17:11:57.100Z"
   },
   {
    "duration": 10,
    "start_time": "2025-04-10T17:11:57.597Z"
   },
   {
    "duration": 140,
    "start_time": "2025-04-10T17:11:57.608Z"
   },
   {
    "duration": 50,
    "start_time": "2025-04-10T17:11:57.750Z"
   },
   {
    "duration": 5,
    "start_time": "2025-04-10T17:11:57.801Z"
   },
   {
    "duration": 146,
    "start_time": "2025-04-10T17:11:57.807Z"
   },
   {
    "duration": 82,
    "start_time": "2025-04-10T17:11:57.955Z"
   },
   {
    "duration": 6,
    "start_time": "2025-04-10T17:11:58.039Z"
   },
   {
    "duration": 32,
    "start_time": "2025-04-10T17:11:58.047Z"
   },
   {
    "duration": 17,
    "start_time": "2025-04-10T17:11:58.091Z"
   },
   {
    "duration": 7,
    "start_time": "2025-04-10T17:11:58.110Z"
   },
   {
    "duration": 26,
    "start_time": "2025-04-10T17:11:58.119Z"
   },
   {
    "duration": 30,
    "start_time": "2025-04-10T17:11:58.147Z"
   },
   {
    "duration": 41,
    "start_time": "2025-04-10T17:11:58.179Z"
   },
   {
    "duration": 31,
    "start_time": "2025-04-10T17:11:58.221Z"
   },
   {
    "duration": 671,
    "start_time": "2025-04-10T17:11:58.254Z"
   },
   {
    "duration": 6,
    "start_time": "2025-04-10T17:11:58.926Z"
   },
   {
    "duration": 45,
    "start_time": "2025-04-10T17:11:58.934Z"
   },
   {
    "duration": 13,
    "start_time": "2025-04-10T17:11:58.981Z"
   },
   {
    "duration": 97,
    "start_time": "2025-04-10T17:11:58.996Z"
   },
   {
    "duration": 19,
    "start_time": "2025-04-10T17:11:59.095Z"
   },
   {
    "duration": 67,
    "start_time": "2025-04-10T17:11:59.115Z"
   },
   {
    "duration": 6,
    "start_time": "2025-04-10T17:11:59.183Z"
   },
   {
    "duration": 64,
    "start_time": "2025-04-10T17:11:59.191Z"
   },
   {
    "duration": 28,
    "start_time": "2025-04-10T17:11:59.257Z"
   },
   {
    "duration": 5,
    "start_time": "2025-04-10T17:11:59.287Z"
   },
   {
    "duration": 70,
    "start_time": "2025-04-10T17:11:59.294Z"
   },
   {
    "duration": 18,
    "start_time": "2025-04-10T17:11:59.366Z"
   },
   {
    "duration": 13,
    "start_time": "2025-04-10T17:11:59.390Z"
   },
   {
    "duration": 4,
    "start_time": "2025-04-10T17:11:59.405Z"
   },
   {
    "duration": 121,
    "start_time": "2025-04-10T17:11:59.411Z"
   },
   {
    "duration": 73,
    "start_time": "2025-04-10T17:11:59.533Z"
   },
   {
    "duration": 208,
    "start_time": "2025-04-10T17:11:59.607Z"
   },
   {
    "duration": 5,
    "start_time": "2025-04-10T17:11:59.817Z"
   },
   {
    "duration": 16,
    "start_time": "2025-04-10T17:11:59.823Z"
   },
   {
    "duration": 7,
    "start_time": "2025-04-10T17:11:59.840Z"
   },
   {
    "duration": 14612,
    "start_time": "2025-04-10T17:11:59.849Z"
   },
   {
    "duration": 1315,
    "start_time": "2025-04-10T17:14:48.664Z"
   },
   {
    "duration": 5,
    "start_time": "2025-04-10T17:24:19.151Z"
   },
   {
    "duration": 7,
    "start_time": "2025-04-10T17:24:52.000Z"
   },
   {
    "duration": 231,
    "start_time": "2025-04-10T17:25:23.369Z"
   },
   {
    "duration": 1452,
    "start_time": "2025-04-11T15:53:35.147Z"
   },
   {
    "duration": 237,
    "start_time": "2025-04-11T15:53:37.918Z"
   },
   {
    "duration": 31,
    "start_time": "2025-04-11T15:53:38.735Z"
   },
   {
    "duration": 92,
    "start_time": "2025-04-11T15:53:41.095Z"
   },
   {
    "duration": 12,
    "start_time": "2025-04-11T15:53:42.278Z"
   },
   {
    "duration": 13,
    "start_time": "2025-04-11T15:53:43.201Z"
   },
   {
    "duration": 916,
    "start_time": "2025-04-11T15:53:46.815Z"
   },
   {
    "duration": 4,
    "start_time": "2025-04-11T15:53:52.285Z"
   },
   {
    "duration": 3,
    "start_time": "2025-04-11T15:53:53.969Z"
   },
   {
    "duration": 89,
    "start_time": "2025-04-11T15:54:03.155Z"
   },
   {
    "duration": 182,
    "start_time": "2025-04-11T15:54:09.191Z"
   },
   {
    "duration": 6,
    "start_time": "2025-04-11T15:54:12.105Z"
   },
   {
    "duration": 53,
    "start_time": "2025-04-11T15:54:15.535Z"
   },
   {
    "duration": 31,
    "start_time": "2025-04-11T15:54:26.512Z"
   },
   {
    "duration": 16,
    "start_time": "2025-04-11T15:54:32.176Z"
   },
   {
    "duration": 48,
    "start_time": "2025-04-11T15:54:46.463Z"
   },
   {
    "duration": 25,
    "start_time": "2025-04-11T15:54:48.163Z"
   },
   {
    "duration": 112,
    "start_time": "2025-04-11T15:54:53.795Z"
   },
   {
    "duration": 277,
    "start_time": "2025-04-11T15:55:25.180Z"
   },
   {
    "duration": 40,
    "start_time": "2025-04-11T15:55:33.965Z"
   },
   {
    "duration": 44,
    "start_time": "2025-04-11T15:55:36.800Z"
   },
   {
    "duration": 175,
    "start_time": "2025-04-11T15:55:41.308Z"
   },
   {
    "duration": 193,
    "start_time": "2025-04-11T15:55:56.622Z"
   },
   {
    "duration": 190,
    "start_time": "2025-04-11T15:56:39.387Z"
   },
   {
    "duration": 1317,
    "start_time": "2025-04-12T05:57:30.768Z"
   },
   {
    "duration": 309,
    "start_time": "2025-04-12T05:57:32.087Z"
   },
   {
    "duration": 35,
    "start_time": "2025-04-12T05:57:32.398Z"
   },
   {
    "duration": 118,
    "start_time": "2025-04-12T05:57:32.435Z"
   },
   {
    "duration": 13,
    "start_time": "2025-04-12T05:57:32.556Z"
   },
   {
    "duration": 29,
    "start_time": "2025-04-12T05:57:32.571Z"
   },
   {
    "duration": 1230,
    "start_time": "2025-04-12T05:57:32.605Z"
   },
   {
    "duration": 10,
    "start_time": "2025-04-12T05:57:33.837Z"
   },
   {
    "duration": 56,
    "start_time": "2025-04-12T05:57:33.849Z"
   },
   {
    "duration": 17,
    "start_time": "2025-04-12T05:57:33.907Z"
   },
   {
    "duration": 26,
    "start_time": "2025-04-12T05:57:33.926Z"
   },
   {
    "duration": 270,
    "start_time": "2025-04-12T05:57:33.954Z"
   },
   {
    "duration": 15,
    "start_time": "2025-04-12T05:57:34.226Z"
   },
   {
    "duration": 62,
    "start_time": "2025-04-12T05:57:34.244Z"
   },
   {
    "duration": 21,
    "start_time": "2025-04-12T05:57:34.308Z"
   },
   {
    "duration": 83,
    "start_time": "2025-04-12T05:57:34.331Z"
   },
   {
    "duration": 84736,
    "start_time": "2025-04-12T05:57:34.416Z"
   },
   {
    "duration": 227,
    "start_time": "2025-04-12T05:58:59.153Z"
   },
   {
    "duration": 6,
    "start_time": "2025-04-12T05:58:59.382Z"
   },
   {
    "duration": 78,
    "start_time": "2025-04-12T05:58:59.390Z"
   },
   {
    "duration": 35,
    "start_time": "2025-04-12T05:58:59.470Z"
   },
   {
    "duration": 17,
    "start_time": "2025-04-12T05:58:59.507Z"
   },
   {
    "duration": 18,
    "start_time": "2025-04-12T05:58:59.526Z"
   },
   {
    "duration": 204,
    "start_time": "2025-04-12T05:58:59.546Z"
   },
   {
    "duration": 48,
    "start_time": "2025-04-12T05:58:59.752Z"
   },
   {
    "duration": 118,
    "start_time": "2025-04-12T05:58:59.802Z"
   },
   {
    "duration": 165,
    "start_time": "2025-04-12T05:58:59.921Z"
   },
   {
    "duration": 27,
    "start_time": "2025-04-12T05:59:00.087Z"
   },
   {
    "duration": 199,
    "start_time": "2025-04-12T05:59:00.115Z"
   },
   {
    "duration": 37,
    "start_time": "2025-04-12T05:59:00.315Z"
   },
   {
    "duration": 231,
    "start_time": "2025-04-12T05:59:00.354Z"
   },
   {
    "duration": 24,
    "start_time": "2025-04-12T05:59:00.587Z"
   },
   {
    "duration": 21,
    "start_time": "2025-04-12T05:59:00.613Z"
   },
   {
    "duration": 17,
    "start_time": "2025-04-12T05:59:00.636Z"
   },
   {
    "duration": 25,
    "start_time": "2025-04-12T05:59:00.655Z"
   },
   {
    "duration": 106,
    "start_time": "2025-04-12T05:59:00.682Z"
   },
   {
    "duration": 52,
    "start_time": "2025-04-12T05:59:00.790Z"
   },
   {
    "duration": 288,
    "start_time": "2025-04-12T05:59:00.843Z"
   },
   {
    "duration": 23,
    "start_time": "2025-04-12T05:59:01.133Z"
   },
   {
    "duration": 49,
    "start_time": "2025-04-12T05:59:01.157Z"
   },
   {
    "duration": 155,
    "start_time": "2025-04-12T05:59:01.211Z"
   },
   {
    "duration": 81,
    "start_time": "2025-04-12T05:59:01.368Z"
   },
   {
    "duration": 42,
    "start_time": "2025-04-12T05:59:01.451Z"
   },
   {
    "duration": 1068,
    "start_time": "2025-04-12T05:59:01.506Z"
   },
   {
    "duration": 132,
    "start_time": "2025-04-12T05:59:02.576Z"
   },
   {
    "duration": 44,
    "start_time": "2025-04-12T05:59:02.709Z"
   },
   {
    "duration": 547,
    "start_time": "2025-04-12T05:59:02.755Z"
   },
   {
    "duration": 10,
    "start_time": "2025-04-12T05:59:03.304Z"
   },
   {
    "duration": 356,
    "start_time": "2025-04-12T05:59:03.316Z"
   },
   {
    "duration": 0,
    "start_time": "2025-04-12T05:59:03.674Z"
   },
   {
    "duration": 0,
    "start_time": "2025-04-12T05:59:03.675Z"
   },
   {
    "duration": 0,
    "start_time": "2025-04-12T05:59:03.677Z"
   },
   {
    "duration": 0,
    "start_time": "2025-04-12T05:59:03.679Z"
   },
   {
    "duration": 0,
    "start_time": "2025-04-12T05:59:03.680Z"
   },
   {
    "duration": 0,
    "start_time": "2025-04-12T05:59:03.682Z"
   },
   {
    "duration": 0,
    "start_time": "2025-04-12T05:59:03.684Z"
   },
   {
    "duration": 0,
    "start_time": "2025-04-12T05:59:03.685Z"
   },
   {
    "duration": 0,
    "start_time": "2025-04-12T05:59:03.686Z"
   },
   {
    "duration": 0,
    "start_time": "2025-04-12T05:59:03.706Z"
   },
   {
    "duration": 0,
    "start_time": "2025-04-12T05:59:03.708Z"
   },
   {
    "duration": 0,
    "start_time": "2025-04-12T05:59:03.709Z"
   },
   {
    "duration": 0,
    "start_time": "2025-04-12T05:59:03.711Z"
   },
   {
    "duration": 0,
    "start_time": "2025-04-12T05:59:03.712Z"
   },
   {
    "duration": 0,
    "start_time": "2025-04-12T05:59:03.714Z"
   },
   {
    "duration": 0,
    "start_time": "2025-04-12T05:59:03.715Z"
   },
   {
    "duration": 0,
    "start_time": "2025-04-12T05:59:03.716Z"
   },
   {
    "duration": 0,
    "start_time": "2025-04-12T05:59:03.718Z"
   },
   {
    "duration": 0,
    "start_time": "2025-04-12T05:59:03.719Z"
   },
   {
    "duration": 0,
    "start_time": "2025-04-12T05:59:03.721Z"
   },
   {
    "duration": 0,
    "start_time": "2025-04-12T05:59:03.723Z"
   },
   {
    "duration": 0,
    "start_time": "2025-04-12T05:59:03.725Z"
   },
   {
    "duration": 0,
    "start_time": "2025-04-12T05:59:03.726Z"
   },
   {
    "duration": 0,
    "start_time": "2025-04-12T05:59:03.728Z"
   },
   {
    "duration": 0,
    "start_time": "2025-04-12T05:59:03.729Z"
   },
   {
    "duration": 0,
    "start_time": "2025-04-12T05:59:03.731Z"
   },
   {
    "duration": 0,
    "start_time": "2025-04-12T05:59:03.732Z"
   },
   {
    "duration": 0,
    "start_time": "2025-04-12T05:59:03.734Z"
   },
   {
    "duration": 0,
    "start_time": "2025-04-12T05:59:03.735Z"
   },
   {
    "duration": 0,
    "start_time": "2025-04-12T05:59:03.737Z"
   },
   {
    "duration": 0,
    "start_time": "2025-04-12T05:59:03.738Z"
   },
   {
    "duration": 0,
    "start_time": "2025-04-12T05:59:03.740Z"
   },
   {
    "duration": 0,
    "start_time": "2025-04-12T05:59:03.741Z"
   },
   {
    "duration": 0,
    "start_time": "2025-04-12T05:59:03.742Z"
   },
   {
    "duration": 2504,
    "start_time": "2025-04-12T05:59:19.532Z"
   },
   {
    "duration": 710,
    "start_time": "2025-04-12T05:59:22.105Z"
   },
   {
    "duration": 105,
    "start_time": "2025-04-12T05:59:22.817Z"
   },
   {
    "duration": 294,
    "start_time": "2025-04-12T05:59:22.925Z"
   },
   {
    "duration": 12,
    "start_time": "2025-04-12T05:59:23.221Z"
   },
   {
    "duration": 92,
    "start_time": "2025-04-12T05:59:23.235Z"
   },
   {
    "duration": 701,
    "start_time": "2025-04-12T05:59:23.329Z"
   },
   {
    "duration": 75,
    "start_time": "2025-04-12T05:59:24.031Z"
   },
   {
    "duration": 12,
    "start_time": "2025-04-12T05:59:24.109Z"
   },
   {
    "duration": 81,
    "start_time": "2025-04-12T05:59:24.125Z"
   },
   {
    "duration": 12,
    "start_time": "2025-04-12T05:59:24.208Z"
   },
   {
    "duration": 402,
    "start_time": "2025-04-12T05:59:24.222Z"
   },
   {
    "duration": 87,
    "start_time": "2025-04-12T05:59:24.626Z"
   },
   {
    "duration": 12,
    "start_time": "2025-04-12T05:59:24.715Z"
   },
   {
    "duration": 80,
    "start_time": "2025-04-12T05:59:24.729Z"
   },
   {
    "duration": 106,
    "start_time": "2025-04-12T05:59:24.810Z"
   },
   {
    "duration": 91698,
    "start_time": "2025-04-12T05:59:24.917Z"
   },
   {
    "duration": 223,
    "start_time": "2025-04-12T06:00:56.617Z"
   },
   {
    "duration": 7,
    "start_time": "2025-04-12T06:00:56.841Z"
   },
   {
    "duration": 92,
    "start_time": "2025-04-12T06:00:56.851Z"
   },
   {
    "duration": 30,
    "start_time": "2025-04-12T06:00:56.945Z"
   },
   {
    "duration": 59,
    "start_time": "2025-04-12T06:00:56.977Z"
   },
   {
    "duration": 18,
    "start_time": "2025-04-12T06:00:57.038Z"
   },
   {
    "duration": 165,
    "start_time": "2025-04-12T06:00:57.058Z"
   },
   {
    "duration": 49,
    "start_time": "2025-04-12T06:00:57.225Z"
   },
   {
    "duration": 91,
    "start_time": "2025-04-12T06:00:57.276Z"
   },
   {
    "duration": 164,
    "start_time": "2025-04-12T06:00:57.369Z"
   },
   {
    "duration": 18,
    "start_time": "2025-04-12T06:00:57.537Z"
   },
   {
    "duration": 183,
    "start_time": "2025-04-12T06:00:57.557Z"
   },
   {
    "duration": 37,
    "start_time": "2025-04-12T06:00:57.741Z"
   },
   {
    "duration": 197,
    "start_time": "2025-04-12T06:00:57.780Z"
   },
   {
    "duration": 28,
    "start_time": "2025-04-12T06:00:57.979Z"
   },
   {
    "duration": 49,
    "start_time": "2025-04-12T06:00:58.009Z"
   },
   {
    "duration": 29,
    "start_time": "2025-04-12T06:00:58.059Z"
   },
   {
    "duration": 26,
    "start_time": "2025-04-12T06:00:58.089Z"
   },
   {
    "duration": 90,
    "start_time": "2025-04-12T06:00:58.116Z"
   },
   {
    "duration": 39,
    "start_time": "2025-04-12T06:00:58.208Z"
   },
   {
    "duration": 298,
    "start_time": "2025-04-12T06:00:58.248Z"
   },
   {
    "duration": 23,
    "start_time": "2025-04-12T06:00:58.548Z"
   },
   {
    "duration": 50,
    "start_time": "2025-04-12T06:00:58.573Z"
   },
   {
    "duration": 133,
    "start_time": "2025-04-12T06:00:58.625Z"
   },
   {
    "duration": 88,
    "start_time": "2025-04-12T06:00:58.759Z"
   },
   {
    "duration": 39,
    "start_time": "2025-04-12T06:00:58.849Z"
   },
   {
    "duration": 1091,
    "start_time": "2025-04-12T06:00:58.890Z"
   },
   {
    "duration": 140,
    "start_time": "2025-04-12T06:00:59.982Z"
   },
   {
    "duration": 42,
    "start_time": "2025-04-12T06:01:00.124Z"
   },
   {
    "duration": 545,
    "start_time": "2025-04-12T06:01:00.167Z"
   },
   {
    "duration": 11,
    "start_time": "2025-04-12T06:01:00.714Z"
   },
   {
    "duration": 356,
    "start_time": "2025-04-12T06:01:00.726Z"
   },
   {
    "duration": 0,
    "start_time": "2025-04-12T06:01:01.084Z"
   },
   {
    "duration": 0,
    "start_time": "2025-04-12T06:01:01.086Z"
   },
   {
    "duration": 0,
    "start_time": "2025-04-12T06:01:01.087Z"
   },
   {
    "duration": 0,
    "start_time": "2025-04-12T06:01:01.088Z"
   },
   {
    "duration": 0,
    "start_time": "2025-04-12T06:01:01.089Z"
   },
   {
    "duration": 0,
    "start_time": "2025-04-12T06:01:01.090Z"
   },
   {
    "duration": 0,
    "start_time": "2025-04-12T06:01:01.105Z"
   },
   {
    "duration": 0,
    "start_time": "2025-04-12T06:01:01.107Z"
   },
   {
    "duration": 0,
    "start_time": "2025-04-12T06:01:01.108Z"
   },
   {
    "duration": 0,
    "start_time": "2025-04-12T06:01:01.109Z"
   },
   {
    "duration": 0,
    "start_time": "2025-04-12T06:01:01.110Z"
   },
   {
    "duration": 0,
    "start_time": "2025-04-12T06:01:01.112Z"
   },
   {
    "duration": 0,
    "start_time": "2025-04-12T06:01:01.113Z"
   },
   {
    "duration": 0,
    "start_time": "2025-04-12T06:01:01.114Z"
   },
   {
    "duration": 0,
    "start_time": "2025-04-12T06:01:01.115Z"
   },
   {
    "duration": 0,
    "start_time": "2025-04-12T06:01:01.116Z"
   },
   {
    "duration": 0,
    "start_time": "2025-04-12T06:01:01.117Z"
   },
   {
    "duration": 0,
    "start_time": "2025-04-12T06:01:01.118Z"
   },
   {
    "duration": 0,
    "start_time": "2025-04-12T06:01:01.119Z"
   },
   {
    "duration": 0,
    "start_time": "2025-04-12T06:01:01.121Z"
   },
   {
    "duration": 0,
    "start_time": "2025-04-12T06:01:01.122Z"
   },
   {
    "duration": 0,
    "start_time": "2025-04-12T06:01:01.123Z"
   },
   {
    "duration": 0,
    "start_time": "2025-04-12T06:01:01.124Z"
   },
   {
    "duration": 0,
    "start_time": "2025-04-12T06:01:01.125Z"
   },
   {
    "duration": 0,
    "start_time": "2025-04-12T06:01:01.126Z"
   },
   {
    "duration": 0,
    "start_time": "2025-04-12T06:01:01.128Z"
   },
   {
    "duration": 0,
    "start_time": "2025-04-12T06:01:01.129Z"
   },
   {
    "duration": 0,
    "start_time": "2025-04-12T06:01:01.130Z"
   },
   {
    "duration": 0,
    "start_time": "2025-04-12T06:01:01.131Z"
   },
   {
    "duration": 0,
    "start_time": "2025-04-12T06:01:01.132Z"
   },
   {
    "duration": 0,
    "start_time": "2025-04-12T06:01:01.133Z"
   },
   {
    "duration": 0,
    "start_time": "2025-04-12T06:01:01.134Z"
   },
   {
    "duration": 0,
    "start_time": "2025-04-12T06:01:01.135Z"
   },
   {
    "duration": 0,
    "start_time": "2025-04-12T06:01:01.136Z"
   },
   {
    "duration": 1603,
    "start_time": "2025-04-12T11:44:44.667Z"
   },
   {
    "duration": 235,
    "start_time": "2025-04-12T11:44:50.280Z"
   },
   {
    "duration": 100,
    "start_time": "2025-04-12T11:44:55.419Z"
   },
   {
    "duration": 1128,
    "start_time": "2025-04-12T11:45:02.603Z"
   },
   {
    "duration": 3,
    "start_time": "2025-04-12T11:45:32.469Z"
   },
   {
    "duration": 3,
    "start_time": "2025-04-12T11:45:37.465Z"
   },
   {
    "duration": 199,
    "start_time": "2025-04-12T11:45:49.331Z"
   },
   {
    "duration": 8,
    "start_time": "2025-04-12T11:45:54.672Z"
   },
   {
    "duration": 38,
    "start_time": "2025-04-12T11:45:59.762Z"
   },
   {
    "duration": 25,
    "start_time": "2025-04-12T11:50:19.484Z"
   },
   {
    "duration": 11,
    "start_time": "2025-04-12T11:50:28.750Z"
   },
   {
    "duration": 29,
    "start_time": "2025-04-12T11:51:03.142Z"
   },
   {
    "duration": 322,
    "start_time": "2025-04-12T11:51:35.837Z"
   },
   {
    "duration": 259,
    "start_time": "2025-04-12T11:52:34.882Z"
   },
   {
    "duration": 1385,
    "start_time": "2025-04-13T05:10:16.181Z"
   },
   {
    "duration": 238,
    "start_time": "2025-04-13T05:10:17.568Z"
   },
   {
    "duration": 34,
    "start_time": "2025-04-13T05:10:17.808Z"
   },
   {
    "duration": 103,
    "start_time": "2025-04-13T05:10:17.844Z"
   },
   {
    "duration": 12,
    "start_time": "2025-04-13T05:10:17.949Z"
   },
   {
    "duration": 16,
    "start_time": "2025-04-13T05:10:17.962Z"
   },
   {
    "duration": 933,
    "start_time": "2025-04-13T05:10:17.980Z"
   },
   {
    "duration": 10,
    "start_time": "2025-04-13T05:10:18.914Z"
   },
   {
    "duration": 30,
    "start_time": "2025-04-13T05:10:18.926Z"
   },
   {
    "duration": 6,
    "start_time": "2025-04-13T05:10:18.957Z"
   },
   {
    "duration": 8,
    "start_time": "2025-04-13T05:10:18.965Z"
   },
   {
    "duration": 97,
    "start_time": "2025-04-13T05:10:18.974Z"
   },
   {
    "duration": 13,
    "start_time": "2025-04-13T05:10:19.073Z"
   },
   {
    "duration": 10,
    "start_time": "2025-04-13T05:10:19.089Z"
   },
   {
    "duration": 12,
    "start_time": "2025-04-13T05:10:19.101Z"
   },
   {
    "duration": 31,
    "start_time": "2025-04-13T05:10:19.137Z"
   },
   {
    "duration": 85176,
    "start_time": "2025-04-13T05:10:19.170Z"
   },
   {
    "duration": 215,
    "start_time": "2025-04-13T05:11:44.347Z"
   },
   {
    "duration": 6,
    "start_time": "2025-04-13T05:11:44.564Z"
   },
   {
    "duration": 73,
    "start_time": "2025-04-13T05:11:44.572Z"
   },
   {
    "duration": 29,
    "start_time": "2025-04-13T05:11:44.646Z"
   },
   {
    "duration": 18,
    "start_time": "2025-04-13T05:11:44.676Z"
   },
   {
    "duration": 16,
    "start_time": "2025-04-13T05:11:44.696Z"
   },
   {
    "duration": 161,
    "start_time": "2025-04-13T05:11:44.737Z"
   },
   {
    "duration": 54,
    "start_time": "2025-04-13T05:11:44.899Z"
   },
   {
    "duration": 39,
    "start_time": "2025-04-13T05:11:44.955Z"
   },
   {
    "duration": 161,
    "start_time": "2025-04-13T05:11:44.995Z"
   },
   {
    "duration": 18,
    "start_time": "2025-04-13T05:11:45.157Z"
   },
   {
    "duration": 176,
    "start_time": "2025-04-13T05:11:45.176Z"
   },
   {
    "duration": 36,
    "start_time": "2025-04-13T05:11:45.353Z"
   },
   {
    "duration": 166,
    "start_time": "2025-04-13T05:11:45.390Z"
   },
   {
    "duration": 25,
    "start_time": "2025-04-13T05:11:45.558Z"
   },
   {
    "duration": 17,
    "start_time": "2025-04-13T05:11:45.584Z"
   },
   {
    "duration": 35,
    "start_time": "2025-04-13T05:11:45.602Z"
   },
   {
    "duration": 25,
    "start_time": "2025-04-13T05:11:45.639Z"
   },
   {
    "duration": 89,
    "start_time": "2025-04-13T05:11:45.666Z"
   },
   {
    "duration": 37,
    "start_time": "2025-04-13T05:11:45.757Z"
   },
   {
    "duration": 272,
    "start_time": "2025-04-13T05:11:45.796Z"
   },
   {
    "duration": 21,
    "start_time": "2025-04-13T05:11:46.070Z"
   },
   {
    "duration": 25,
    "start_time": "2025-04-13T05:11:46.093Z"
   },
   {
    "duration": 132,
    "start_time": "2025-04-13T05:11:46.142Z"
   },
   {
    "duration": 77,
    "start_time": "2025-04-13T05:11:46.276Z"
   },
   {
    "duration": 39,
    "start_time": "2025-04-13T05:11:46.355Z"
   },
   {
    "duration": 1178,
    "start_time": "2025-04-13T05:11:46.395Z"
   },
   {
    "duration": 126,
    "start_time": "2025-04-13T05:11:47.574Z"
   },
   {
    "duration": 48,
    "start_time": "2025-04-13T05:11:47.702Z"
   },
   {
    "duration": 487,
    "start_time": "2025-04-13T05:11:47.752Z"
   },
   {
    "duration": 10,
    "start_time": "2025-04-13T05:11:48.240Z"
   },
   {
    "duration": 354,
    "start_time": "2025-04-13T05:11:48.252Z"
   },
   {
    "duration": 0,
    "start_time": "2025-04-13T05:11:48.608Z"
   },
   {
    "duration": 0,
    "start_time": "2025-04-13T05:11:48.609Z"
   },
   {
    "duration": 0,
    "start_time": "2025-04-13T05:11:48.610Z"
   },
   {
    "duration": 0,
    "start_time": "2025-04-13T05:11:48.611Z"
   },
   {
    "duration": 0,
    "start_time": "2025-04-13T05:11:48.613Z"
   },
   {
    "duration": 0,
    "start_time": "2025-04-13T05:11:48.614Z"
   },
   {
    "duration": 0,
    "start_time": "2025-04-13T05:11:48.615Z"
   },
   {
    "duration": 0,
    "start_time": "2025-04-13T05:11:48.616Z"
   },
   {
    "duration": 0,
    "start_time": "2025-04-13T05:11:48.617Z"
   },
   {
    "duration": 0,
    "start_time": "2025-04-13T05:11:48.618Z"
   },
   {
    "duration": 0,
    "start_time": "2025-04-13T05:11:48.619Z"
   },
   {
    "duration": 0,
    "start_time": "2025-04-13T05:11:48.637Z"
   },
   {
    "duration": 0,
    "start_time": "2025-04-13T05:11:48.639Z"
   },
   {
    "duration": 0,
    "start_time": "2025-04-13T05:11:48.640Z"
   },
   {
    "duration": 0,
    "start_time": "2025-04-13T05:11:48.642Z"
   },
   {
    "duration": 0,
    "start_time": "2025-04-13T05:11:48.644Z"
   },
   {
    "duration": 0,
    "start_time": "2025-04-13T05:11:48.645Z"
   },
   {
    "duration": 0,
    "start_time": "2025-04-13T05:11:48.647Z"
   },
   {
    "duration": 0,
    "start_time": "2025-04-13T05:11:48.648Z"
   },
   {
    "duration": 0,
    "start_time": "2025-04-13T05:11:48.650Z"
   },
   {
    "duration": 0,
    "start_time": "2025-04-13T05:11:48.651Z"
   },
   {
    "duration": 0,
    "start_time": "2025-04-13T05:11:48.653Z"
   },
   {
    "duration": 0,
    "start_time": "2025-04-13T05:11:48.654Z"
   },
   {
    "duration": 0,
    "start_time": "2025-04-13T05:11:48.655Z"
   },
   {
    "duration": 0,
    "start_time": "2025-04-13T05:11:48.657Z"
   },
   {
    "duration": 0,
    "start_time": "2025-04-13T05:11:48.659Z"
   },
   {
    "duration": 0,
    "start_time": "2025-04-13T05:11:48.660Z"
   },
   {
    "duration": 0,
    "start_time": "2025-04-13T05:11:48.661Z"
   },
   {
    "duration": 0,
    "start_time": "2025-04-13T05:11:48.664Z"
   },
   {
    "duration": 1,
    "start_time": "2025-04-13T05:11:48.665Z"
   },
   {
    "duration": 0,
    "start_time": "2025-04-13T05:11:48.668Z"
   },
   {
    "duration": 0,
    "start_time": "2025-04-13T05:11:48.669Z"
   },
   {
    "duration": 0,
    "start_time": "2025-04-13T05:11:48.673Z"
   },
   {
    "duration": 0,
    "start_time": "2025-04-13T05:11:48.674Z"
   },
   {
    "duration": 1301,
    "start_time": "2025-04-13T05:13:07.448Z"
   },
   {
    "duration": 229,
    "start_time": "2025-04-13T05:13:08.751Z"
   },
   {
    "duration": 44,
    "start_time": "2025-04-13T05:13:08.981Z"
   },
   {
    "duration": 107,
    "start_time": "2025-04-13T05:13:09.029Z"
   },
   {
    "duration": 11,
    "start_time": "2025-04-13T05:13:09.139Z"
   },
   {
    "duration": 55,
    "start_time": "2025-04-13T05:13:09.152Z"
   },
   {
    "duration": 726,
    "start_time": "2025-04-13T05:13:09.209Z"
   },
   {
    "duration": 9,
    "start_time": "2025-04-13T05:13:09.936Z"
   },
   {
    "duration": 15,
    "start_time": "2025-04-13T05:13:09.947Z"
   },
   {
    "duration": 15,
    "start_time": "2025-04-13T05:13:09.964Z"
   },
   {
    "duration": 22,
    "start_time": "2025-04-13T05:13:09.980Z"
   },
   {
    "duration": 107,
    "start_time": "2025-04-13T05:13:10.004Z"
   },
   {
    "duration": 25,
    "start_time": "2025-04-13T05:13:10.112Z"
   },
   {
    "duration": 10,
    "start_time": "2025-04-13T05:13:10.140Z"
   },
   {
    "duration": 22,
    "start_time": "2025-04-13T05:13:10.152Z"
   },
   {
    "duration": 51,
    "start_time": "2025-04-13T05:13:10.176Z"
   },
   {
    "duration": 76530,
    "start_time": "2025-04-13T05:13:10.229Z"
   },
   {
    "duration": 196,
    "start_time": "2025-04-13T05:14:26.761Z"
   },
   {
    "duration": 5,
    "start_time": "2025-04-13T05:14:26.959Z"
   },
   {
    "duration": 59,
    "start_time": "2025-04-13T05:14:26.966Z"
   },
   {
    "duration": 36,
    "start_time": "2025-04-13T05:14:27.027Z"
   },
   {
    "duration": 16,
    "start_time": "2025-04-13T05:14:27.065Z"
   },
   {
    "duration": 15,
    "start_time": "2025-04-13T05:14:27.082Z"
   },
   {
    "duration": 175,
    "start_time": "2025-04-13T05:14:27.099Z"
   },
   {
    "duration": 47,
    "start_time": "2025-04-13T05:14:27.275Z"
   },
   {
    "duration": 49,
    "start_time": "2025-04-13T05:14:27.324Z"
   },
   {
    "duration": 147,
    "start_time": "2025-04-13T05:14:27.374Z"
   },
   {
    "duration": 24,
    "start_time": "2025-04-13T05:14:27.523Z"
   },
   {
    "duration": 168,
    "start_time": "2025-04-13T05:14:27.549Z"
   },
   {
    "duration": 43,
    "start_time": "2025-04-13T05:14:27.718Z"
   },
   {
    "duration": 142,
    "start_time": "2025-04-13T05:14:27.762Z"
   },
   {
    "duration": 32,
    "start_time": "2025-04-13T05:14:27.906Z"
   },
   {
    "duration": 16,
    "start_time": "2025-04-13T05:14:27.940Z"
   },
   {
    "duration": 16,
    "start_time": "2025-04-13T05:14:27.957Z"
   },
   {
    "duration": 24,
    "start_time": "2025-04-13T05:14:27.975Z"
   },
   {
    "duration": 102,
    "start_time": "2025-04-13T05:14:28.001Z"
   },
   {
    "duration": 43,
    "start_time": "2025-04-13T05:14:28.105Z"
   },
   {
    "duration": 252,
    "start_time": "2025-04-13T05:14:28.150Z"
   },
   {
    "duration": 20,
    "start_time": "2025-04-13T05:14:28.404Z"
   },
   {
    "duration": 87,
    "start_time": "2025-04-13T05:14:28.436Z"
   },
   {
    "duration": 111,
    "start_time": "2025-04-13T05:14:28.528Z"
   },
   {
    "duration": 68,
    "start_time": "2025-04-13T05:14:28.641Z"
   },
   {
    "duration": 47,
    "start_time": "2025-04-13T05:14:28.711Z"
   },
   {
    "duration": 980,
    "start_time": "2025-04-13T05:14:28.759Z"
   },
   {
    "duration": 122,
    "start_time": "2025-04-13T05:14:29.740Z"
   },
   {
    "duration": 43,
    "start_time": "2025-04-13T05:14:29.864Z"
   },
   {
    "duration": 519,
    "start_time": "2025-04-13T05:14:29.908Z"
   },
   {
    "duration": 14,
    "start_time": "2025-04-13T05:14:30.429Z"
   },
   {
    "duration": 401,
    "start_time": "2025-04-13T05:14:30.444Z"
   },
   {
    "duration": 0,
    "start_time": "2025-04-13T05:14:30.846Z"
   },
   {
    "duration": 0,
    "start_time": "2025-04-13T05:14:30.847Z"
   },
   {
    "duration": 0,
    "start_time": "2025-04-13T05:14:30.849Z"
   },
   {
    "duration": 0,
    "start_time": "2025-04-13T05:14:30.850Z"
   },
   {
    "duration": 0,
    "start_time": "2025-04-13T05:14:30.851Z"
   },
   {
    "duration": 0,
    "start_time": "2025-04-13T05:14:30.852Z"
   },
   {
    "duration": 0,
    "start_time": "2025-04-13T05:14:30.853Z"
   },
   {
    "duration": 0,
    "start_time": "2025-04-13T05:14:30.854Z"
   },
   {
    "duration": 0,
    "start_time": "2025-04-13T05:14:30.855Z"
   },
   {
    "duration": 0,
    "start_time": "2025-04-13T05:14:30.856Z"
   },
   {
    "duration": 0,
    "start_time": "2025-04-13T05:14:30.857Z"
   },
   {
    "duration": 0,
    "start_time": "2025-04-13T05:14:30.859Z"
   },
   {
    "duration": 0,
    "start_time": "2025-04-13T05:14:30.860Z"
   },
   {
    "duration": 0,
    "start_time": "2025-04-13T05:14:30.860Z"
   },
   {
    "duration": 0,
    "start_time": "2025-04-13T05:14:30.861Z"
   },
   {
    "duration": 0,
    "start_time": "2025-04-13T05:14:30.862Z"
   },
   {
    "duration": 0,
    "start_time": "2025-04-13T05:14:30.864Z"
   },
   {
    "duration": 0,
    "start_time": "2025-04-13T05:14:30.865Z"
   },
   {
    "duration": 0,
    "start_time": "2025-04-13T05:14:30.866Z"
   },
   {
    "duration": 0,
    "start_time": "2025-04-13T05:14:30.867Z"
   },
   {
    "duration": 0,
    "start_time": "2025-04-13T05:14:30.868Z"
   },
   {
    "duration": 0,
    "start_time": "2025-04-13T05:14:30.869Z"
   },
   {
    "duration": 0,
    "start_time": "2025-04-13T05:14:30.870Z"
   },
   {
    "duration": 0,
    "start_time": "2025-04-13T05:14:30.871Z"
   },
   {
    "duration": 0,
    "start_time": "2025-04-13T05:14:30.872Z"
   },
   {
    "duration": 0,
    "start_time": "2025-04-13T05:14:30.872Z"
   },
   {
    "duration": 0,
    "start_time": "2025-04-13T05:14:30.873Z"
   },
   {
    "duration": 0,
    "start_time": "2025-04-13T05:14:30.875Z"
   },
   {
    "duration": 0,
    "start_time": "2025-04-13T05:14:30.876Z"
   },
   {
    "duration": 0,
    "start_time": "2025-04-13T05:14:30.877Z"
   },
   {
    "duration": 0,
    "start_time": "2025-04-13T05:14:30.878Z"
   },
   {
    "duration": 0,
    "start_time": "2025-04-13T05:14:30.879Z"
   },
   {
    "duration": 0,
    "start_time": "2025-04-13T05:14:30.880Z"
   },
   {
    "duration": 0,
    "start_time": "2025-04-13T05:14:30.936Z"
   },
   {
    "duration": 1827,
    "start_time": "2025-04-13T10:53:16.781Z"
   },
   {
    "duration": 276,
    "start_time": "2025-04-13T10:53:21.980Z"
   },
   {
    "duration": 104,
    "start_time": "2025-04-13T10:53:25.020Z"
   },
   {
    "duration": 1209,
    "start_time": "2025-04-13T10:53:28.371Z"
   },
   {
    "duration": 5,
    "start_time": "2025-04-13T10:53:33.802Z"
   },
   {
    "duration": 5,
    "start_time": "2025-04-13T10:53:36.930Z"
   },
   {
    "duration": 131,
    "start_time": "2025-04-13T10:53:39.907Z"
   },
   {
    "duration": 206,
    "start_time": "2025-04-13T10:53:47.466Z"
   },
   {
    "duration": 7,
    "start_time": "2025-04-13T10:53:50.753Z"
   },
   {
    "duration": 42,
    "start_time": "2025-04-13T10:53:53.354Z"
   },
   {
    "duration": 26,
    "start_time": "2025-04-13T10:54:01.372Z"
   },
   {
    "duration": 19,
    "start_time": "2025-04-13T10:54:04.307Z"
   },
   {
    "duration": 41,
    "start_time": "2025-04-13T10:54:11.818Z"
   },
   {
    "duration": 310,
    "start_time": "2025-04-13T10:55:25.388Z"
   },
   {
    "duration": 83,
    "start_time": "2025-04-13T10:56:39.691Z"
   },
   {
    "duration": 248,
    "start_time": "2025-04-13T10:57:05.765Z"
   },
   {
    "duration": 3,
    "start_time": "2025-04-13T18:32:01.962Z"
   },
   {
    "duration": 292,
    "start_time": "2025-04-13T18:32:01.966Z"
   },
   {
    "duration": 33,
    "start_time": "2025-04-13T18:32:02.260Z"
   },
   {
    "duration": 117,
    "start_time": "2025-04-13T18:32:02.295Z"
   },
   {
    "duration": 8,
    "start_time": "2025-04-13T18:32:02.414Z"
   },
   {
    "duration": 73,
    "start_time": "2025-04-13T18:32:02.424Z"
   },
   {
    "duration": 669,
    "start_time": "2025-04-13T18:32:02.499Z"
   },
   {
    "duration": 13,
    "start_time": "2025-04-13T18:32:03.170Z"
   },
   {
    "duration": 25,
    "start_time": "2025-04-13T18:32:03.185Z"
   },
   {
    "duration": 8,
    "start_time": "2025-04-13T18:32:03.212Z"
   },
   {
    "duration": 19,
    "start_time": "2025-04-13T18:32:03.222Z"
   },
   {
    "duration": 121,
    "start_time": "2025-04-13T18:32:03.244Z"
   },
   {
    "duration": 12,
    "start_time": "2025-04-13T18:32:03.367Z"
   },
   {
    "duration": 65,
    "start_time": "2025-04-13T18:32:03.381Z"
   },
   {
    "duration": 30,
    "start_time": "2025-04-13T18:32:03.448Z"
   },
   {
    "duration": 25,
    "start_time": "2025-04-13T18:32:03.480Z"
   },
   {
    "duration": 90024,
    "start_time": "2025-04-13T18:32:03.508Z"
   },
   {
    "duration": 187,
    "start_time": "2025-04-13T18:33:33.534Z"
   },
   {
    "duration": 6,
    "start_time": "2025-04-13T18:33:33.723Z"
   },
   {
    "duration": 54,
    "start_time": "2025-04-13T18:33:33.731Z"
   },
   {
    "duration": 38,
    "start_time": "2025-04-13T18:33:33.788Z"
   },
   {
    "duration": 17,
    "start_time": "2025-04-13T18:33:33.828Z"
   },
   {
    "duration": 33,
    "start_time": "2025-04-13T18:33:33.847Z"
   },
   {
    "duration": 173,
    "start_time": "2025-04-13T18:33:33.881Z"
   },
   {
    "duration": 57,
    "start_time": "2025-04-13T18:33:34.056Z"
   },
   {
    "duration": 45,
    "start_time": "2025-04-13T18:33:34.115Z"
   },
   {
    "duration": 177,
    "start_time": "2025-04-13T18:33:34.162Z"
   },
   {
    "duration": 16,
    "start_time": "2025-04-13T18:33:34.341Z"
   },
   {
    "duration": 192,
    "start_time": "2025-04-13T18:33:34.359Z"
   },
   {
    "duration": 37,
    "start_time": "2025-04-13T18:33:34.553Z"
   },
   {
    "duration": 157,
    "start_time": "2025-04-13T18:33:34.605Z"
   },
   {
    "duration": 18,
    "start_time": "2025-04-13T18:33:34.764Z"
   },
   {
    "duration": 49,
    "start_time": "2025-04-13T18:33:34.784Z"
   },
   {
    "duration": 18,
    "start_time": "2025-04-13T18:33:34.834Z"
   },
   {
    "duration": 61,
    "start_time": "2025-04-13T18:33:34.854Z"
   },
   {
    "duration": 63,
    "start_time": "2025-04-13T18:33:34.917Z"
   },
   {
    "duration": 69,
    "start_time": "2025-04-13T18:33:34.982Z"
   },
   {
    "duration": 279,
    "start_time": "2025-04-13T18:33:35.059Z"
   },
   {
    "duration": 16,
    "start_time": "2025-04-13T18:33:35.340Z"
   },
   {
    "duration": 104,
    "start_time": "2025-04-13T18:33:35.358Z"
   },
   {
    "duration": 156,
    "start_time": "2025-04-13T18:33:35.464Z"
   },
   {
    "duration": 67,
    "start_time": "2025-04-13T18:33:35.622Z"
   },
   {
    "duration": 50,
    "start_time": "2025-04-13T18:33:35.691Z"
   },
   {
    "duration": 1073,
    "start_time": "2025-04-13T18:33:35.743Z"
   },
   {
    "duration": 44,
    "start_time": "2025-04-13T18:33:36.818Z"
   },
   {
    "duration": 62,
    "start_time": "2025-04-13T18:33:36.864Z"
   },
   {
    "duration": 509,
    "start_time": "2025-04-13T18:33:36.928Z"
   },
   {
    "duration": 11,
    "start_time": "2025-04-13T18:33:37.439Z"
   },
   {
    "duration": 477,
    "start_time": "2025-04-13T18:33:37.452Z"
   },
   {
    "duration": 61,
    "start_time": "2025-04-13T18:33:37.931Z"
   },
   {
    "duration": 6,
    "start_time": "2025-04-13T18:33:38.005Z"
   },
   {
    "duration": 158,
    "start_time": "2025-04-13T18:33:38.012Z"
   },
   {
    "duration": 112,
    "start_time": "2025-04-13T18:33:38.172Z"
   },
   {
    "duration": 18,
    "start_time": "2025-04-13T18:33:38.286Z"
   },
   {
    "duration": 12,
    "start_time": "2025-04-13T18:33:38.306Z"
   },
   {
    "duration": 7,
    "start_time": "2025-04-13T18:33:38.320Z"
   },
   {
    "duration": 6,
    "start_time": "2025-04-13T18:33:38.328Z"
   },
   {
    "duration": 24,
    "start_time": "2025-04-13T18:33:38.336Z"
   },
   {
    "duration": 43,
    "start_time": "2025-04-13T18:33:38.362Z"
   },
   {
    "duration": 45,
    "start_time": "2025-04-13T18:33:38.407Z"
   },
   {
    "duration": 31,
    "start_time": "2025-04-13T18:33:38.454Z"
   },
   {
    "duration": 116,
    "start_time": "2025-04-13T18:33:38.503Z"
   },
   {
    "duration": 7,
    "start_time": "2025-04-13T18:33:38.620Z"
   },
   {
    "duration": 7,
    "start_time": "2025-04-13T18:33:38.628Z"
   },
   {
    "duration": 12,
    "start_time": "2025-04-13T18:33:38.637Z"
   },
   {
    "duration": 64,
    "start_time": "2025-04-13T18:33:38.651Z"
   },
   {
    "duration": 21,
    "start_time": "2025-04-13T18:33:38.717Z"
   },
   {
    "duration": 87,
    "start_time": "2025-04-13T18:33:38.740Z"
   },
   {
    "duration": 6,
    "start_time": "2025-04-13T18:33:38.828Z"
   },
   {
    "duration": 7,
    "start_time": "2025-04-13T18:33:38.835Z"
   },
   {
    "duration": 20,
    "start_time": "2025-04-13T18:33:38.843Z"
   },
   {
    "duration": 4,
    "start_time": "2025-04-13T18:33:38.865Z"
   },
   {
    "duration": 68,
    "start_time": "2025-04-13T18:33:38.871Z"
   },
   {
    "duration": 12,
    "start_time": "2025-04-13T18:33:38.941Z"
   },
   {
    "duration": 96,
    "start_time": "2025-04-13T18:33:38.955Z"
   },
   {
    "duration": 10,
    "start_time": "2025-04-13T18:33:39.052Z"
   },
   {
    "duration": 108,
    "start_time": "2025-04-13T18:33:39.063Z"
   },
   {
    "duration": 58,
    "start_time": "2025-04-13T18:33:39.173Z"
   },
   {
    "duration": 246,
    "start_time": "2025-04-13T18:33:39.233Z"
   },
   {
    "duration": 6,
    "start_time": "2025-04-13T18:33:39.481Z"
   },
   {
    "duration": 25,
    "start_time": "2025-04-13T18:33:39.488Z"
   },
   {
    "duration": 8,
    "start_time": "2025-04-13T18:33:39.515Z"
   },
   {
    "duration": 18760,
    "start_time": "2025-04-13T18:33:39.524Z"
   }
  ],
  "kernelspec": {
   "display_name": "Python 3 (ipykernel)",
   "language": "python",
   "name": "python3"
  },
  "language_info": {
   "codemirror_mode": {
    "name": "ipython",
    "version": 3
   },
   "file_extension": ".py",
   "mimetype": "text/x-python",
   "name": "python",
   "nbconvert_exporter": "python",
   "pygments_lexer": "ipython3",
   "version": "3.9.5"
  },
  "toc": {
   "base_numbering": 1,
   "nav_menu": {},
   "number_sections": true,
   "sideBar": true,
   "skip_h1_title": true,
   "title_cell": "Table of Contents",
   "title_sidebar": "Contents",
   "toc_cell": false,
   "toc_position": {},
   "toc_section_display": true,
   "toc_window_display": false
  }
 },
 "nbformat": 4,
 "nbformat_minor": 2
}
